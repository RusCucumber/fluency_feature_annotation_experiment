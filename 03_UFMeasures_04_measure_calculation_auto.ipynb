{
 "cells": [
  {
   "cell_type": "markdown",
   "metadata": {},
   "source": [
    "5/12 (Sun) | UF Measures\n",
    "\n",
    "# UF Measure Calculation Based on Automatic Annotation"
   ]
  },
  {
   "cell_type": "markdown",
   "metadata": {},
   "source": [
    "## 1. Introduction\n",
    "\n",
    "This notebook calculates UF measures using the result of automatic temporal feature annotation.\n",
    "Before starting the calculation, the following code block loads required packages and defines global variables."
   ]
  },
  {
   "cell_type": "code",
   "execution_count": 1,
   "metadata": {},
   "outputs": [],
   "source": [
    "from typing import List, Tuple, Generator\n",
    "import sys\n",
    "from pathlib import Path\n",
    "\n",
    "import pandas as pd\n",
    "import pickle as pkl\n",
    "from textgrids import TextGrid\n",
    "\n",
    "sys.path.append(\n",
    "    \"/home/matsuura/Development/app/feature_extraction_api/app/modules\"\n",
    ")\n",
    "\n",
    "from fluency import Turn, UtteranceFluencyFeatureExtractor\n",
    "\n",
    "DATA_DIR = Path(\"/home/matsuura/Development/app/feature_extraction_api/experiment/data\")\n",
    "\n",
    "TASK = [\"Arg_Oly\", \"Cartoon\", \"RtSwithoutRAA\", \"RtSwithRAA\", \"WoZ_Interview\"]"
   ]
  },
  {
   "cell_type": "markdown",
   "metadata": {},
   "source": [
    "---\n",
    "\n",
    "## 2. Define Functions\n",
    "\n",
    "This section defines functions to calculate UF measures.\n",
    "The following code block defines a function to yield file path of Turn object and TextGrid."
   ]
  },
  {
   "cell_type": "code",
   "execution_count": 2,
   "metadata": {},
   "outputs": [],
   "source": [
    "def turn_textgrid_path_generator(task: str) -> Generator[Tuple[Path, Path], None, None]:\n",
    "    load_dir = DATA_DIR / f\"{task}/08_Auto_Annotation\"\n",
    "\n",
    "    for turn_path in load_dir.glob(\"*.pkl\"):\n",
    "        if turn_path.stem.endswith(\"_long\"):\n",
    "            continue\n",
    "        \n",
    "        textgrid_path = load_dir / f\"{turn_path.stem}.TextGrid\"\n",
    "\n",
    "        yield turn_path, textgrid_path"
   ]
  },
  {
   "cell_type": "markdown",
   "metadata": {},
   "source": [
    "The following code block defines a function to load Turn object and TextGrid."
   ]
  },
  {
   "cell_type": "code",
   "execution_count": 3,
   "metadata": {},
   "outputs": [],
   "source": [
    "def load_turn_and_textgrid(turn_path: Path, textgrid_path: Path) -> Tuple[Turn, TextGrid]:\n",
    "    with open(turn_path, \"rb\") as f:\n",
    "        turn = pkl.load(f)\n",
    "\n",
    "    textgrid = TextGrid(str(textgrid_path))\n",
    "\n",
    "    return turn, textgrid"
   ]
  },
  {
   "cell_type": "markdown",
   "metadata": {},
   "source": [
    "The following code block defines a function to calculate UF measures."
   ]
  },
  {
   "cell_type": "code",
   "execution_count": 4,
   "metadata": {},
   "outputs": [],
   "source": [
    "def extract(turn: Turn, textgrid: TextGrid, pruning: bool =True) -> Tuple[list, list]:\n",
    "    extractor = UtteranceFluencyFeatureExtractor()\n",
    "\n",
    "    measures = extractor.extract_by_turn(turn, textgrid, pruning)\n",
    "    measure_names = extractor.check_feature_names()\n",
    "\n",
    "    return measures, measure_names"
   ]
  },
  {
   "cell_type": "markdown",
   "metadata": {},
   "source": [
    "The following code block defines a function to save calculated UF measures as csv file."
   ]
  },
  {
   "cell_type": "code",
   "execution_count": 5,
   "metadata": {},
   "outputs": [],
   "source": [
    "def save_measures(\n",
    "        measure_list: List[list], \n",
    "        measure_names: list, \n",
    "        task: str, \n",
    "        pruning: bool =True\n",
    ") -> None:\n",
    "    columns = [\"uid\"] + measure_names\n",
    "    df_measures = pd.DataFrame(measure_list, columns=columns)\n",
    "    df_measures = df_measures.sort_values(\"uid\").reset_index(drop=True)\n",
    "\n",
    "    if pruning:\n",
    "        filename = f\"uf_measures_auto_pruned.csv\"\n",
    "    else:\n",
    "        filename = f\"uf_measures_auto_unpruned.csv\"\n",
    "\n",
    "    save_path = DATA_DIR / f\"{task}/09_UF_Measures/{filename}\"\n",
    "\n",
    "    df_measures.to_csv(save_path, index=False)"
   ]
  },
  {
   "cell_type": "markdown",
   "metadata": {},
   "source": [
    "---\n",
    "\n",
    "## 3. Calculate UF measures\n",
    "\n",
    "The following code block caclulate UF measures."
   ]
  },
  {
   "cell_type": "code",
   "execution_count": 6,
   "metadata": {},
   "outputs": [],
   "source": [
    "for task in TASK:\n",
    "    measure_list_pruned = []\n",
    "    measure_list_unpruned = []\n",
    "\n",
    "    for turn_path, textgrid_path in turn_textgrid_path_generator(task):\n",
    "        turn, textgrid = load_turn_and_textgrid(turn_path, textgrid_path)\n",
    "\n",
    "        measures_pruned, measure_names = extract(turn, textgrid, pruning=True)\n",
    "        measures_unpruned, _ = extract(turn, textgrid, pruning=False)\n",
    "\n",
    "        uid = turn_path.stem\n",
    "\n",
    "        measures_pruned = [uid] + measures_pruned\n",
    "        measures_unpruned = [uid] + measures_unpruned\n",
    "\n",
    "        measure_list_pruned.append(measures_pruned)\n",
    "        measure_list_unpruned.append(measures_unpruned)\n",
    "\n",
    "    save_measures(measure_list_pruned, measure_names, task, pruning=True)\n",
    "    save_measures(measure_list_unpruned, measure_names, task, pruning=False)"
   ]
  }
 ],
 "metadata": {
  "kernelspec": {
   "display_name": "teai-incremental-classifier",
   "language": "python",
   "name": "python3"
  },
  "language_info": {
   "codemirror_mode": {
    "name": "ipython",
    "version": 3
   },
   "file_extension": ".py",
   "mimetype": "text/x-python",
   "name": "python",
   "nbconvert_exporter": "python",
   "pygments_lexer": "ipython3",
   "version": "3.9.6"
  }
 },
 "nbformat": 4,
 "nbformat_minor": 2
}
