{
 "cells": [
  {
   "cell_type": "markdown",
   "metadata": {},
   "source": [
    "5/11 (Sat) | Preprocess\n",
    "\n",
    "# Forced Alignment Preparation for Monologue Data (Manual Transcript)"
   ]
  },
  {
   "cell_type": "markdown",
   "metadata": {},
   "source": [
    "## 1. Introduction\n",
    "\n",
    "This notebook generates monologue transcripts for wav2vec forced alignment.\n",
    "The transcript generation procedures consist of the following stages.\n",
    "\n",
    "1. Load a TextGrid file\n",
    "2. Extract texts in the TextGrid file\n",
    "3. Transform the texts\n",
    "4. Save it as .txt file\n",
    "\n",
    "Before starting the process, the following code block loads required packages and define global variables."
   ]
  },
  {
   "cell_type": "code",
   "execution_count": 1,
   "metadata": {},
   "outputs": [],
   "source": [
    "from typing import List, Generator\n",
    "from pathlib import Path\n",
    "import re\n",
    "\n",
    "from textgrids import TextGrid\n",
    "\n",
    "DATA_DIR = Path(\"/home/matsuura/Development/app/feature_extraction_api/experiment/data\")\n",
    "\n",
    "TASK = [\"Arg_Oly\", \"Cartoon\", \"RtSwithoutRAA\", \"RtSwithRAA\"]\n",
    "\n",
    "PUNCTUATIONS = [\".\", \",\", \":\", \"?\", \"!\"]"
   ]
  },
  {
   "cell_type": "markdown",
   "metadata": {},
   "source": [
    "---\n",
    "\n",
    "## 2. Define Functions\n",
    "\n",
    "This section defines functions to complete the preprocess.\n",
    "The following code block defines a generator of TextGrid path."
   ]
  },
  {
   "cell_type": "code",
   "execution_count": 2,
   "metadata": {},
   "outputs": [],
   "source": [
    "def textgrid_path_generator(task: str) -> Generator[Path, None, None]:\n",
    "    load_dir = DATA_DIR / f\"{task}/01_Manual_TextGrid\"\n",
    "\n",
    "    for textgrid_path in load_dir.glob(\"*.TextGrid\"):\n",
    "        yield textgrid_path"
   ]
  },
  {
   "cell_type": "markdown",
   "metadata": {},
   "source": [
    "The following code block defines a function to extract texts from a TextGrid file."
   ]
  },
  {
   "cell_type": "code",
   "execution_count": 3,
   "metadata": {},
   "outputs": [],
   "source": [
    "def extract_texts_from_textgrid(textgrid_path: Path) -> List[str]:\n",
    "    textgrid = TextGrid(str(textgrid_path))\n",
    "    transcript_tier = textgrid[\"Transcript\"]\n",
    "    \n",
    "    texts = []\n",
    "    for interval in transcript_tier:\n",
    "        text = interval.text\n",
    "        texts.append(text)\n",
    "\n",
    "    return texts"
   ]
  },
  {
   "cell_type": "markdown",
   "metadata": {},
   "source": [
    "The following code block define a function to transform the extracted texts."
   ]
  },
  {
   "cell_type": "code",
   "execution_count": 4,
   "metadata": {},
   "outputs": [],
   "source": [
    "def transform_texts(texts: List[str]) -> str:\n",
    "    # 1. transform list 2 str\n",
    "    fa_transcript = \" \".join(texts)\n",
    "\n",
    "    # 2. remove disfluency tags\n",
    "    fa_transcript = fa_transcript.replace(\"{\", \" \")\n",
    "    fa_transcript = fa_transcript.replace(\"}\", \" \")\n",
    "\n",
    "    # 3. remove other punctuations\n",
    "    for punct in PUNCTUATIONS:\n",
    "        fa_transcript = fa_transcript.replace(punct, \" \")\n",
    "    fa_transcript = fa_transcript.replace(\"-\", \"\")\n",
    "    fa_transcript = fa_transcript.replace(\"é\", \"e\")\n",
    "\n",
    "    # 4. replace characters unsupported by FA to star tokens\n",
    "    number_pattern = r\"\\b\\w*\\d\\w*\\b\"\n",
    "    fa_transcript = re.sub(number_pattern, \"*\", fa_transcript)\n",
    "\n",
    "    # 5. lower transcript\n",
    "    fa_transcript = fa_transcript.lower()\n",
    "\n",
    "    # 6. remove extra pauses\n",
    "    while \"  \" in fa_transcript:\n",
    "        fa_transcript = fa_transcript.replace(\"  \", \" \")\n",
    "    \n",
    "    if fa_transcript[0] == \" \":\n",
    "        fa_transcript = fa_transcript[1:]\n",
    "    if fa_transcript[-1] == \" \":\n",
    "        fa_transcript = fa_transcript[:-1]\n",
    "\n",
    "    return fa_transcript"
   ]
  },
  {
   "cell_type": "markdown",
   "metadata": {},
   "source": [
    "The following code block defines a function to remove prefix of the TextGrid filename."
   ]
  },
  {
   "cell_type": "code",
   "execution_count": 5,
   "metadata": {},
   "outputs": [],
   "source": [
    "def get_filename(textgrid_path: Path, task: str) -> str:\n",
    "    participant_id = textgrid_path.stem[:4]\n",
    "    filename = f\"{participant_id}_{task}\"\n",
    "\n",
    "    return filename"
   ]
  },
  {
   "cell_type": "markdown",
   "metadata": {},
   "source": [
    "The following code block defines a function to save the transcript."
   ]
  },
  {
   "cell_type": "code",
   "execution_count": 6,
   "metadata": {},
   "outputs": [],
   "source": [
    "def save_transcript(fa_transcript: str, filename: str, task: str) -> None:\n",
    "    save_path = DATA_DIR / f\"{task}/05_FA_Audio_Transcript_Manu/{filename}.txt\"\n",
    "    \n",
    "    with open(save_path, \"w\") as f:\n",
    "        f.write(fa_transcript)"
   ]
  },
  {
   "cell_type": "markdown",
   "metadata": {},
   "source": [
    "---\n",
    "\n",
    "## 3. Conduct Forced Alignment Preparation\n",
    "\n",
    "the following code block conduct the preparation."
   ]
  },
  {
   "cell_type": "code",
   "execution_count": 7,
   "metadata": {},
   "outputs": [],
   "source": [
    "for task in TASK:\n",
    "    for textgrid_path in textgrid_path_generator(task):\n",
    "        try:\n",
    "            texts = extract_texts_from_textgrid(textgrid_path)\n",
    "            fa_transcript = transform_texts(texts)\n",
    "\n",
    "            filename = get_filename(textgrid_path, task)\n",
    "            save_transcript(fa_transcript, filename, task)\n",
    "        except:\n",
    "            print(textgrid_path)"
   ]
  },
  {
   "cell_type": "code",
   "execution_count": null,
   "metadata": {},
   "outputs": [],
   "source": []
  }
 ],
 "metadata": {
  "kernelspec": {
   "display_name": "teai-incremental-classifier",
   "language": "python",
   "name": "python3"
  },
  "language_info": {
   "codemirror_mode": {
    "name": "ipython",
    "version": 3
   },
   "file_extension": ".py",
   "mimetype": "text/x-python",
   "name": "python",
   "nbconvert_exporter": "python",
   "pygments_lexer": "ipython3",
   "version": "3.9.6"
  }
 },
 "nbformat": 4,
 "nbformat_minor": 2
}
