{
 "cells": [
  {
   "cell_type": "markdown",
   "metadata": {},
   "source": [
    "5/14 (Tue) | Experiment\n",
    "\n",
    "# Evaluation of Reliability of Automatic Annotation"
   ]
  },
  {
   "cell_type": "markdown",
   "metadata": {},
   "source": [
    "## 1. Introduction\n",
    "\n",
    "This notebook evalutate the reliability of the proposed automatic temporal feature annotation system.\n",
    "More specifically, I evaluate the system in terms of the following metrics.\n",
    "\n",
    "- Cohen's kappa\n",
    "- Accuracy score\n",
    "- Precision\n",
    "- Recall\n",
    "- F1 Score\n",
    "\n",
    "Before starting the evaluation, the following code block loads required packages and defines global variables."
   ]
  },
  {
   "cell_type": "code",
   "execution_count": 1,
   "metadata": {},
   "outputs": [],
   "source": [
    "from typing import List, Tuple, Generator, Optional\n",
    "from pathlib import Path\n",
    "\n",
    "import numpy as np\n",
    "import pandas as pd\n",
    "from sklearn.metrics import accuracy_score, precision_recall_fscore_support, cohen_kappa_score\n",
    "\n",
    "from utils.mfr import logit_2_rating\n",
    "\n",
    "DATA_DIR = Path(\"/home/matsuura/Development/app/feature_extraction_api/experiment/data\")\n",
    "\n",
    "TASK = [\"Arg_Oly\", \"Cartoon\", \"RtSwithoutRAA\", \"RtSwithRAA\", \"WoZ_Interview\"]"
   ]
  },
  {
   "cell_type": "markdown",
   "metadata": {},
   "source": [
    "---\n",
    "\n",
    "## 2. Define Functions\n",
    "\n",
    "This section defines functions for the analyses.\n",
    "The following code block defines "
   ]
  },
  {
   "cell_type": "code",
   "execution_count": 2,
   "metadata": {},
   "outputs": [],
   "source": [
    "def label_generator(\n",
    "        task: str,\n",
    "        ignore_tag: str, \n",
    "        tags: Tuple[str] =(\"<disfluency>\", \"<ci>\", \"<ce>\", \"<filler>\"), \n",
    "        word: str =\"<word>\",\n",
    "        rating_filter: Optional[List[int]] =None,\n",
    "        bert: bool =False\n",
    ") -> Generator[Tuple[list, list], None, None]:\n",
    "    load_dir = DATA_DIR / f\"{task}/11_SCTK_Outputs\"\n",
    "\n",
    "    pf_path = DATA_DIR / f\"{task}/12_PF_Rating/pf_rating.csv\"\n",
    "    df_pf = pd.read_csv(pf_path)\n",
    "    uid_list = df_pf[\"uid\"].to_numpy()\n",
    "\n",
    "    if rating_filter is not None:\n",
    "        logit_path = pf_path.parent / \"logit.csv\"\n",
    "        threshold_path = logit_path.parent / \"threshold.csv\"\n",
    "        \n",
    "        df_logit = pd.read_csv(logit_path, index_col=0)\n",
    "        rating_list = logit_2_rating(df_logit[\"theta\"], threshold_path)\n",
    "\n",
    "        mask = np.full(rating_list.shape, False, dtype=bool)\n",
    "        for rating in rating_filter:\n",
    "            mask = mask | (rating_list == rating)\n",
    "        \n",
    "        uid_list = uid_list[mask]\n",
    "\n",
    "    for uid in uid_list:\n",
    "        if task == \"WoZ_Interview\":\n",
    "            uid = str(int(uid)).zfill(3)\n",
    "\n",
    "        filename_pattern = f\"{uid}*_ignore_{ignore_tag}.txt\"\n",
    "        if bert:\n",
    "            filename_pattern = f\"{uid}*_ignore_{ignore_tag}_bert.txt\"\n",
    "        for filename in load_dir.glob(filename_pattern):\n",
    "            with open(filename, \"r\") as f:\n",
    "                true = []\n",
    "                pred = []\n",
    "                flag = 0\n",
    "\n",
    "                for line in f.readlines():\n",
    "                    if line[0] == \"<\":\n",
    "                        continue\n",
    "\n",
    "                    line = line.replace(\"\\n\", \"\")\n",
    "\n",
    "                    if len(line) == 1 and line.isupper():\n",
    "                        flag += 1\n",
    "                        continue\n",
    "\n",
    "                    line = line.replace(\"\\\"\", \"\")\n",
    "                    if not(line in tags):\n",
    "                        line = word\n",
    "\n",
    "                    if flag == 1:\n",
    "                        true.append(line)\n",
    "                        flag += 1\n",
    "                    elif flag == 2:\n",
    "                        pred.append(line)\n",
    "                        flag = 0\n",
    "\n",
    "            yield true, pred"
   ]
  },
  {
   "cell_type": "markdown",
   "metadata": {},
   "source": [
    "The following code block defines a function to convert labels to ids."
   ]
  },
  {
   "cell_type": "code",
   "execution_count": 3,
   "metadata": {},
   "outputs": [],
   "source": [
    "def tag_2_id(\n",
    "        tag_list: List[str], \n",
    "        tags: List[str] =[\"<disfluency>\", \"<ci>\", \"<ce>\", \"<filler>\", \"<word>\"]\n",
    ") -> List[str]:\n",
    "    tag_id_list = []\n",
    "    for tag in tag_list:\n",
    "        i = tags.index(tag)\n",
    "        tag_id_list.append(i)\n",
    "\n",
    "    return tag_id_list"
   ]
  },
  {
   "cell_type": "markdown",
   "metadata": {},
   "source": [
    "The following code block defines a function to calculate Cronbach's Alpha."
   ]
  },
  {
   "cell_type": "code",
   "execution_count": 4,
   "metadata": {},
   "outputs": [],
   "source": [
    "def cronbach_alpha(true: List[int], pred: List[int]):\n",
    "    mtx = np.array([true, pred])\n",
    "    var_by_items = np.var(mtx, axis=0)\n",
    "    sum_var_by_items = np.sum(var_by_items)\n",
    "\n",
    "    items_sum = np.sum(mtx, axis=1)\n",
    "    var_items_sum = np.var(items_sum)\n",
    "\n",
    "    n_items = len(true)\n",
    "\n",
    "    alpha = n_items / (n_items - 1) * (1 - sum_var_by_items / var_items_sum)\n",
    "\n",
    "    return alpha"
   ]
  },
  {
   "cell_type": "markdown",
   "metadata": {},
   "source": [
    "The following code block defines a function to calculate reliability metrics."
   ]
  },
  {
   "cell_type": "code",
   "execution_count": 5,
   "metadata": {},
   "outputs": [],
   "source": [
    "def evaluate_reliability(\n",
    "        task_list: List[str], \n",
    "        ignore_tag: str,\n",
    "        rating_filter: Optional[List[int]] =None\n",
    ") -> None:\n",
    "    all_true = []\n",
    "    all_pred = []\n",
    "\n",
    "    if ignore_tag == \"<CI>-<CE>-<FILLER>\":\n",
    "        tags = [\"<disfluency>\", \"<word>\"]\n",
    "        print(f\"--- Analysis of Disfluency ---\")\n",
    "\n",
    "    elif ignore_tag == \"<CI>-<CE>\":\n",
    "        tags = [\"<disfluency>\", \"<filler>\", \"<word>\"]\n",
    "        print(f\"--- Analysis of Disfluency & Filler ---\")\n",
    "\n",
    "    elif ignore_tag == \"<DISFLUENCY>-<FILLER>\":\n",
    "        tags = [\"<ci>\", \"<ce>\", \"<word>\"]\n",
    "        print(f\"--- Analysis of Pause Location ---\")\n",
    "\n",
    "    print(\"- Tasks ... \", end=\"\")\n",
    "\n",
    "    sample_size = 0\n",
    "    for task in task_list:\n",
    "        print(f\"{task}, \", end=\"\")\n",
    "        for true, pred in label_generator(task, ignore_tag, rating_filter=rating_filter, bert=True):\n",
    "            true = tag_2_id(true, tags=tags)\n",
    "            pred = tag_2_id(pred, tags=tags)\n",
    "\n",
    "            all_true += true\n",
    "            all_pred += pred\n",
    "            sample_size += 1\n",
    "\n",
    "    if rating_filter is not None:\n",
    "        print(f\"\\n- Target rating ... {rating_filter}\")\n",
    "    else:\n",
    "        print()\n",
    "    print(f\"- Sample size = {sample_size}\")\n",
    "\n",
    "    acc = accuracy_score(all_true, all_pred)\n",
    "    p, r, f, _ = precision_recall_fscore_support(all_true, all_pred)\n",
    "    # a = cronbach_alpha(all_true, all_pred)\n",
    "    kappa = cohen_kappa_score(all_true, all_pred)\n",
    "\n",
    "    print(f\"\\n- Metrics\")\n",
    "    # print(f\"\\tCronbach Alpha: {a}\")\n",
    "    print(f\"\\tCohen's Kappa:  {kappa}\")\n",
    "    print(f\"\\tAccuracy:       {acc:.03f}\\n\")\n",
    "\n",
    "    print(f\"\\tLabels    | {np.array(tags)}\")\n",
    "    print(f\"\\tPrecision | {p}\") \n",
    "    print(f\"\\tRecall    | {r}\")\n",
    "    print(f\"\\tF1 score  | {f}\")"
   ]
  },
  {
   "cell_type": "markdown",
   "metadata": {},
   "source": [
    "---\n",
    "\n",
    "## 3. Reliability Analyses\n",
    "\n",
    "This section conducts reliability analyses."
   ]
  },
  {
   "cell_type": "markdown",
   "metadata": {},
   "source": [
    "### 3.1. Disfluency Detection\n",
    "\n",
    "#### 3.1.1. All Ratings"
   ]
  },
  {
   "cell_type": "code",
   "execution_count": 6,
   "metadata": {},
   "outputs": [
    {
     "name": "stdout",
     "output_type": "stream",
     "text": [
      "--- Analysis of Disfluency ---\n",
      "- Tasks ... Arg_Oly, Cartoon, RtSwithoutRAA, RtSwithRAA, WoZ_Interview, \n",
      "- Sample size = 2255\n",
      "\n",
      "- Metrics\n",
      "\tCohen's Kappa:  0.5928225003650681\n",
      "\tAccuracy:       0.931\n",
      "\n",
      "\tLabels    | ['<disfluency>' '<word>']\n",
      "\tPrecision | [0.80300913 0.94104042]\n",
      "\tRecall    | [0.51684305 0.98382442]\n",
      "\tF1 score  | [0.62890329 0.96195694]\n"
     ]
    }
   ],
   "source": [
    "evaluate_reliability(TASK, ignore_tag=\"<CI>-<CE>-<FILLER>\")"
   ]
  },
  {
   "cell_type": "code",
   "execution_count": 7,
   "metadata": {},
   "outputs": [
    {
     "name": "stdout",
     "output_type": "stream",
     "text": [
      "--- Analysis of Disfluency ---\n",
      "- Tasks ... Arg_Oly, \n",
      "- Sample size = 128\n",
      "\n",
      "- Metrics\n",
      "\tCohen's Kappa:  0.618745919241853\n",
      "\tAccuracy:       0.937\n",
      "\n",
      "\tLabels    | ['<disfluency>' '<word>']\n",
      "\tPrecision | [0.80948617 0.94690927]\n",
      "\tRecall    | [0.54584222 0.98438816]\n",
      "\tF1 score  | [0.65202165 0.96528506]\n"
     ]
    }
   ],
   "source": [
    "evaluate_reliability([\"Arg_Oly\"], ignore_tag=\"<CI>-<CE>-<FILLER>\")"
   ]
  },
  {
   "cell_type": "code",
   "execution_count": 8,
   "metadata": {},
   "outputs": [
    {
     "name": "stdout",
     "output_type": "stream",
     "text": [
      "--- Analysis of Disfluency ---\n",
      "- Tasks ... Cartoon, \n",
      "- Sample size = 128\n",
      "\n",
      "- Metrics\n",
      "\tCohen's Kappa:  0.6458304576321436\n",
      "\tAccuracy:       0.933\n",
      "\n",
      "\tLabels    | ['<disfluency>' '<word>']\n",
      "\tPrecision | [0.82942974 0.94273   ]\n",
      "\tRecall    | [0.57909705 0.98310214]\n",
      "\tF1 score  | [0.682018  0.9624929]\n"
     ]
    }
   ],
   "source": [
    "evaluate_reliability([\"Cartoon\"], ignore_tag=\"<CI>-<CE>-<FILLER>\")"
   ]
  },
  {
   "cell_type": "code",
   "execution_count": 9,
   "metadata": {},
   "outputs": [
    {
     "name": "stdout",
     "output_type": "stream",
     "text": [
      "--- Analysis of Disfluency ---\n",
      "- Tasks ... RtSwithoutRAA, \n",
      "- Sample size = 128\n",
      "\n",
      "- Metrics\n",
      "\tCohen's Kappa:  0.5856748522192039\n",
      "\tAccuracy:       0.924\n",
      "\n",
      "\tLabels    | ['<disfluency>' '<word>']\n",
      "\tPrecision | [0.82174393 0.93222542]\n",
      "\tRecall    | [0.50491692 0.98417055]\n",
      "\tF1 score  | [0.62549884 0.95749398]\n"
     ]
    }
   ],
   "source": [
    "evaluate_reliability([\"RtSwithoutRAA\"], ignore_tag=\"<CI>-<CE>-<FILLER>\")"
   ]
  },
  {
   "cell_type": "code",
   "execution_count": 10,
   "metadata": {},
   "outputs": [
    {
     "name": "stdout",
     "output_type": "stream",
     "text": [
      "--- Analysis of Disfluency ---\n",
      "- Tasks ... RtSwithRAA, \n",
      "- Sample size = 128\n",
      "\n",
      "- Metrics\n",
      "\tCohen's Kappa:  0.5563248083041319\n",
      "\tAccuracy:       0.921\n",
      "\n",
      "\tLabels    | ['<disfluency>' '<word>']\n",
      "\tPrecision | [0.80912863 0.92962501]\n",
      "\tRecall    | [0.47280914 0.98423655]\n",
      "\tF1 score  | [0.59685177 0.95615161]\n"
     ]
    }
   ],
   "source": [
    "evaluate_reliability([\"RtSwithRAA\"], ignore_tag=\"<CI>-<CE>-<FILLER>\")"
   ]
  },
  {
   "cell_type": "code",
   "execution_count": 11,
   "metadata": {},
   "outputs": [
    {
     "name": "stdout",
     "output_type": "stream",
     "text": [
      "--- Analysis of Disfluency ---\n",
      "- Tasks ... WoZ_Interview, \n",
      "- Sample size = 1743\n",
      "\n",
      "- Metrics\n",
      "\tCohen's Kappa:  0.5713529006729258\n",
      "\tAccuracy:       0.937\n",
      "\n",
      "\tLabels    | ['<disfluency>' '<word>']\n",
      "\tPrecision | [0.76251455 0.94901503]\n",
      "\tRecall    | [0.49974568 0.98355944]\n",
      "\tF1 score  | [0.60377938 0.9659785 ]\n"
     ]
    }
   ],
   "source": [
    "evaluate_reliability([\"WoZ_Interview\"], ignore_tag=\"<CI>-<CE>-<FILLER>\")\n",
    "# TODO: df_annotation_manu の disfluency の位置の訂正"
   ]
  },
  {
   "cell_type": "markdown",
   "metadata": {},
   "source": [
    "Disfluency Detector のアップデートで，長い系列の言い淀みのアノテーションが可能になった．\n",
    "ただし，それが不必要な箇所まで言い淀みと判定してしまうケースが増えていそう(e.g., 008_031)．\n",
    "実際に，recall が 0.631 → 0.804 と APSIPA から値が向上しているのに対して，precision は 0.832 → 0.565 と値が大きく低下している．取りこぼしが少なくなった反面，余計な箇所まで言い淀みと判定していまい，その結果 kappa が低下した可能性 大\n",
    "\n",
    "**TODO: 旧版の言い淀み検出に取り替えた場合の性能を見たい / もしくは，L1 で学習したモデルに変更した場合はどうなる...？**\n",
    "</br>→ BERT 版でやったほうが精度が下がった...\n",
    "\n",
    "せめて，kappa 60% < は欲しいが..."
   ]
  },
  {
   "cell_type": "markdown",
   "metadata": {},
   "source": [
    "#### 3.1.2. Beginners"
   ]
  },
  {
   "cell_type": "code",
   "execution_count": 12,
   "metadata": {},
   "outputs": [
    {
     "name": "stdout",
     "output_type": "stream",
     "text": [
      "--- Analysis of Disfluency ---\n",
      "- Tasks ... Arg_Oly, \n",
      "- Target rating ... [0, 1, 2]\n",
      "- Sample size = 35\n",
      "\n",
      "- Metrics\n",
      "\tCohen's Kappa:  0.6090367613622097\n",
      "\tAccuracy:       0.914\n",
      "\n",
      "\tLabels    | ['<disfluency>' '<word>']\n",
      "\tPrecision | [0.82382134 0.92356512]\n",
      "\tRecall    | [0.54515599 0.97922762]\n",
      "\tF1 score  | [0.65612648 0.95058222]\n"
     ]
    }
   ],
   "source": [
    "evaluate_reliability([\"Arg_Oly\"], ignore_tag=\"<CI>-<CE>-<FILLER>\", rating_filter=[0, 1, 2])"
   ]
  },
  {
   "cell_type": "code",
   "execution_count": 13,
   "metadata": {},
   "outputs": [
    {
     "name": "stdout",
     "output_type": "stream",
     "text": [
      "--- Analysis of Disfluency ---\n",
      "- Tasks ... Cartoon, \n",
      "- Target rating ... [0, 1, 2]\n",
      "- Sample size = 18\n",
      "\n",
      "- Metrics\n",
      "\tCohen's Kappa:  0.6150261367666208\n",
      "\tAccuracy:       0.910\n",
      "\n",
      "\tLabels    | ['<disfluency>' '<word>']\n",
      "\tPrecision | [0.77586207 0.92770543]\n",
      "\tRecall    | [0.58290155 0.96949789]\n",
      "\tF1 score  | [0.66568047 0.94814135]\n"
     ]
    }
   ],
   "source": [
    "evaluate_reliability([\"Cartoon\"], ignore_tag=\"<CI>-<CE>-<FILLER>\", rating_filter=[0, 1, 2])"
   ]
  },
  {
   "cell_type": "code",
   "execution_count": 14,
   "metadata": {},
   "outputs": [
    {
     "name": "stdout",
     "output_type": "stream",
     "text": [
      "--- Analysis of Disfluency ---\n",
      "- Tasks ... RtSwithoutRAA, \n",
      "- Target rating ... [0, 1, 2]\n",
      "- Sample size = 31\n",
      "\n",
      "- Metrics\n",
      "\tCohen's Kappa:  0.6077705504590072\n",
      "\tAccuracy:       0.911\n",
      "\n",
      "\tLabels    | ['<disfluency>' '<word>']\n",
      "\tPrecision | [0.82018349 0.9217759 ]\n",
      "\tRecall    | [0.54712362 0.97801705]\n",
      "\tF1 score  | [0.65638767 0.949064  ]\n"
     ]
    }
   ],
   "source": [
    "evaluate_reliability([\"RtSwithoutRAA\"], ignore_tag=\"<CI>-<CE>-<FILLER>\", rating_filter=[0, 1, 2])"
   ]
  },
  {
   "cell_type": "code",
   "execution_count": 15,
   "metadata": {},
   "outputs": [
    {
     "name": "stdout",
     "output_type": "stream",
     "text": [
      "--- Analysis of Disfluency ---\n",
      "- Tasks ... RtSwithRAA, "
     ]
    },
    {
     "name": "stdout",
     "output_type": "stream",
     "text": [
      "\n",
      "- Target rating ... [0, 1, 2]\n",
      "- Sample size = 18\n",
      "\n",
      "- Metrics\n",
      "\tCohen's Kappa:  0.6126385101629456\n",
      "\tAccuracy:       0.916\n",
      "\n",
      "\tLabels    | ['<disfluency>' '<word>']\n",
      "\tPrecision | [0.82329317 0.92645779]\n",
      "\tRecall    | [0.54812834 0.9797515 ]\n",
      "\tF1 score  | [0.65810594 0.95235965]\n"
     ]
    }
   ],
   "source": [
    "evaluate_reliability([\"RtSwithRAA\"], ignore_tag=\"<CI>-<CE>-<FILLER>\", rating_filter=[0, 1, 2])"
   ]
  },
  {
   "cell_type": "code",
   "execution_count": 16,
   "metadata": {},
   "outputs": [
    {
     "name": "stdout",
     "output_type": "stream",
     "text": [
      "--- Analysis of Disfluency ---\n",
      "- Tasks ... WoZ_Interview, \n",
      "- Target rating ... [0, 1]\n",
      "- Sample size = 603\n",
      "\n",
      "- Metrics\n",
      "\tCohen's Kappa:  0.5737943612703172\n",
      "\tAccuracy:       0.925\n",
      "\n",
      "\tLabels    | ['<disfluency>' '<word>']\n",
      "\tPrecision | [0.81500873 0.93367975]\n",
      "\tRecall    | [0.49054622 0.98471301]\n",
      "\tF1 score  | [0.61245902 0.95851758]\n"
     ]
    }
   ],
   "source": [
    "evaluate_reliability([\"WoZ_Interview\"], ignore_tag=\"<CI>-<CE>-<FILLER>\", rating_filter=[0, 1])"
   ]
  },
  {
   "cell_type": "markdown",
   "metadata": {},
   "source": [
    "#### 3.1.3. Intermediate"
   ]
  },
  {
   "cell_type": "code",
   "execution_count": 17,
   "metadata": {},
   "outputs": [
    {
     "name": "stdout",
     "output_type": "stream",
     "text": [
      "--- Analysis of Disfluency ---\n",
      "- Tasks ... Arg_Oly, \n",
      "- Target rating ... [3, 4, 5]\n",
      "- Sample size = 66\n",
      "\n",
      "- Metrics\n",
      "\tCohen's Kappa:  0.6335498842932917\n",
      "\tAccuracy:       0.938\n",
      "\n",
      "\tLabels    | ['<disfluency>' '<word>']\n",
      "\tPrecision | [0.81137725 0.94827157]\n",
      "\tRecall    | [0.565762   0.98374613]\n",
      "\tF1 score  | [0.66666667 0.96568317]\n"
     ]
    }
   ],
   "source": [
    "evaluate_reliability([\"Arg_Oly\"], ignore_tag=\"<CI>-<CE>-<FILLER>\", rating_filter=[3, 4, 5])"
   ]
  },
  {
   "cell_type": "code",
   "execution_count": 18,
   "metadata": {},
   "outputs": [
    {
     "name": "stdout",
     "output_type": "stream",
     "text": [
      "--- Analysis of Disfluency ---\n",
      "- Tasks ... Cartoon, \n",
      "- Target rating ... [3, 4, 5]\n",
      "- Sample size = 78\n",
      "\n",
      "- Metrics\n",
      "\tCohen's Kappa:  0.6689322328419027\n",
      "\tAccuracy:       0.934\n",
      "\n",
      "\tLabels    | ['<disfluency>' '<word>']\n",
      "\tPrecision | [0.84671533 0.94294519]\n",
      "\tRecall    | [0.60381724 0.9835795 ]\n",
      "\tF1 score  | [0.7049291  0.96283382]\n"
     ]
    }
   ],
   "source": [
    "evaluate_reliability([\"Cartoon\"], ignore_tag=\"<CI>-<CE>-<FILLER>\", rating_filter=[3, 4, 5])"
   ]
  },
  {
   "cell_type": "code",
   "execution_count": 19,
   "metadata": {},
   "outputs": [
    {
     "name": "stdout",
     "output_type": "stream",
     "text": [
      "--- Analysis of Disfluency ---\n",
      "- Tasks ... RtSwithoutRAA, \n",
      "- Target rating ... [3, 4, 5]\n",
      "- Sample size = 68\n",
      "\n",
      "- Metrics\n",
      "\tCohen's Kappa:  0.58070961121569\n",
      "\tAccuracy:       0.924\n",
      "\n",
      "\tLabels    | ['<disfluency>' '<word>']\n",
      "\tPrecision | [0.84468339 0.93070792]\n",
      "\tRecall    | [0.48893499 0.98707239]\n",
      "\tF1 score  | [0.61936049 0.95806187]\n"
     ]
    }
   ],
   "source": [
    "evaluate_reliability([\"RtSwithoutRAA\"], ignore_tag=\"<CI>-<CE>-<FILLER>\", rating_filter=[3, 4, 5])"
   ]
  },
  {
   "cell_type": "code",
   "execution_count": 20,
   "metadata": {},
   "outputs": [
    {
     "name": "stdout",
     "output_type": "stream",
     "text": [
      "--- Analysis of Disfluency ---\n",
      "- Tasks ... RtSwithRAA, \n",
      "- Target rating ... [3, 4, 5]\n",
      "- Sample size = 81\n",
      "\n",
      "- Metrics\n",
      "\tCohen's Kappa:  0.5501154901701164\n",
      "\tAccuracy:       0.919\n",
      "\n",
      "\tLabels    | ['<disfluency>' '<word>']\n",
      "\tPrecision | [0.8036225  0.92816437]\n",
      "\tRecall    | [0.46807329 0.98363001]\n",
      "\tF1 score  | [0.59157895 0.95509259]\n"
     ]
    }
   ],
   "source": [
    "evaluate_reliability([\"RtSwithRAA\"], ignore_tag=\"<CI>-<CE>-<FILLER>\", rating_filter=[3, 4, 5])"
   ]
  },
  {
   "cell_type": "code",
   "execution_count": 21,
   "metadata": {},
   "outputs": [
    {
     "name": "stdout",
     "output_type": "stream",
     "text": [
      "--- Analysis of Disfluency ---\n",
      "- Tasks ... WoZ_Interview, "
     ]
    },
    {
     "name": "stdout",
     "output_type": "stream",
     "text": [
      "\n",
      "- Target rating ... [2, 3]\n",
      "- Sample size = 979\n",
      "\n",
      "- Metrics\n",
      "\tCohen's Kappa:  0.5743955205879954\n",
      "\tAccuracy:       0.934\n",
      "\n",
      "\tLabels    | ['<disfluency>' '<word>']\n",
      "\tPrecision | [0.75698324 0.94720472]\n",
      "\tRecall    | [0.50901578 0.98178697]\n",
      "\tF1 score  | [0.60871518 0.96418586]\n"
     ]
    }
   ],
   "source": [
    "evaluate_reliability([\"WoZ_Interview\"], ignore_tag=\"<CI>-<CE>-<FILLER>\", rating_filter=[2, 3])"
   ]
  },
  {
   "cell_type": "markdown",
   "metadata": {},
   "source": [
    "#### 3.1.4. Advanced"
   ]
  },
  {
   "cell_type": "code",
   "execution_count": 22,
   "metadata": {},
   "outputs": [
    {
     "name": "stdout",
     "output_type": "stream",
     "text": [
      "--- Analysis of Disfluency ---\n",
      "- Tasks ... Arg_Oly, \n",
      "- Target rating ... [6, 7, 8]\n",
      "- Sample size = 27\n",
      "\n",
      "- Metrics\n",
      "\tCohen's Kappa:  0.574244810334049\n",
      "\tAccuracy:       0.956\n",
      "\n",
      "\tLabels    | ['<disfluency>' '<word>']\n",
      "\tPrecision | [0.77319588 0.9637152 ]\n",
      "\tRecall    | [0.48543689 0.98968831]\n",
      "\tF1 score  | [0.59642147 0.97652908]\n"
     ]
    }
   ],
   "source": [
    "evaluate_reliability([\"Arg_Oly\"], ignore_tag=\"<CI>-<CE>-<FILLER>\", rating_filter=[6, 7, 8])"
   ]
  },
  {
   "cell_type": "code",
   "execution_count": 23,
   "metadata": {},
   "outputs": [
    {
     "name": "stdout",
     "output_type": "stream",
     "text": [
      "--- Analysis of Disfluency ---\n",
      "- Tasks ... Cartoon, \n",
      "- Target rating ... [6, 7, 8]\n",
      "- Sample size = 32\n",
      "\n",
      "- Metrics\n",
      "\tCohen's Kappa:  0.6007790155894494\n",
      "\tAccuracy:       0.939\n",
      "\n",
      "\tLabels    | ['<disfluency>' '<word>']\n",
      "\tPrecision | [0.81632653 0.94752368]\n",
      "\tRecall    | [0.51575931 0.98690168]\n",
      "\tF1 score  | [0.63213345 0.96681188]\n"
     ]
    }
   ],
   "source": [
    "evaluate_reliability([\"Cartoon\"], ignore_tag=\"<CI>-<CE>-<FILLER>\", rating_filter=[6, 7, 8])"
   ]
  },
  {
   "cell_type": "code",
   "execution_count": 24,
   "metadata": {},
   "outputs": [
    {
     "name": "stdout",
     "output_type": "stream",
     "text": [
      "--- Analysis of Disfluency ---\n",
      "- Tasks ... RtSwithoutRAA, \n",
      "- Target rating ... [6, 7, 8]\n",
      "- Sample size = 29\n",
      "\n",
      "- Metrics\n",
      "\tCohen's Kappa:  0.5654290121499763\n",
      "\tAccuracy:       0.932\n",
      "\n",
      "\tLabels    | ['<disfluency>' '<word>']\n",
      "\tPrecision | [0.77906977 0.94289898]\n",
      "\tRecall    | [0.48833819 0.98387371]\n",
      "\tF1 score  | [0.60035842 0.96295066]\n"
     ]
    }
   ],
   "source": [
    "evaluate_reliability([\"RtSwithoutRAA\"], ignore_tag=\"<CI>-<CE>-<FILLER>\", rating_filter=[6, 7, 8])"
   ]
  },
  {
   "cell_type": "code",
   "execution_count": 25,
   "metadata": {},
   "outputs": [
    {
     "name": "stdout",
     "output_type": "stream",
     "text": [
      "--- Analysis of Disfluency ---\n",
      "- Tasks ... RtSwithRAA, \n",
      "- Target rating ... [6, 7, 8]\n",
      "- Sample size = 29\n",
      "\n",
      "- Metrics\n",
      "\tCohen's Kappa:  0.5395400891690971\n",
      "\tAccuracy:       0.927\n",
      "\n",
      "\tLabels    | ['<disfluency>' '<word>']\n",
      "\tPrecision | [0.81491003 0.93408977]\n",
      "\tRecall    | [0.44522472 0.98730159]\n",
      "\tF1 score  | [0.57584015 0.95995884]\n"
     ]
    }
   ],
   "source": [
    "evaluate_reliability([\"RtSwithRAA\"], ignore_tag=\"<CI>-<CE>-<FILLER>\", rating_filter=[6, 7, 8])"
   ]
  },
  {
   "cell_type": "code",
   "execution_count": 26,
   "metadata": {},
   "outputs": [
    {
     "name": "stdout",
     "output_type": "stream",
     "text": [
      "--- Analysis of Disfluency ---\n",
      "- Tasks ... WoZ_Interview, \n",
      "- Target rating ... [4, 5]\n",
      "- Sample size = 161\n",
      "\n",
      "- Metrics\n",
      "\tCohen's Kappa:  0.5193073213706664\n",
      "\tAccuracy:       0.963\n",
      "\n",
      "\tLabels    | ['<disfluency>' '<word>']\n",
      "\tPrecision | [0.6682243  0.97312241]\n",
      "\tRecall    | [0.44968553 0.98891837]\n",
      "\tF1 score  | [0.53759398 0.9809568 ]\n"
     ]
    }
   ],
   "source": [
    "evaluate_reliability([\"WoZ_Interview\"], ignore_tag=\"<CI>-<CE>-<FILLER>\", rating_filter=[4, 5])"
   ]
  },
  {
   "cell_type": "markdown",
   "metadata": {},
   "source": [
    "### 3.2. Pause Location Classification\n",
    "\n",
    "#### 3.2.1. All Ratings"
   ]
  },
  {
   "cell_type": "code",
   "execution_count": 27,
   "metadata": {},
   "outputs": [
    {
     "name": "stdout",
     "output_type": "stream",
     "text": [
      "--- Analysis of Pause Location ---\n",
      "- Tasks ... Arg_Oly, Cartoon, RtSwithoutRAA, RtSwithRAA, WoZ_Interview, \n",
      "- Sample size = 2255\n",
      "\n",
      "- Metrics\n",
      "\tCohen's Kappa:  0.7036632694925453\n",
      "\tAccuracy:       0.878\n",
      "\n",
      "\tLabels    | ['<ci>' '<ce>' '<word>']\n",
      "\tPrecision | [0.67683477 0.6777591  0.95726591]\n",
      "\tRecall    | [0.82744102 0.65650098 0.90747183]\n",
      "\tF1 score  | [0.74459864 0.66696069 0.93170405]\n"
     ]
    }
   ],
   "source": [
    "evaluate_reliability(TASK, ignore_tag=\"<DISFLUENCY>-<FILLER>\")"
   ]
  },
  {
   "cell_type": "code",
   "execution_count": 28,
   "metadata": {},
   "outputs": [
    {
     "name": "stdout",
     "output_type": "stream",
     "text": [
      "--- Analysis of Pause Location ---\n",
      "- Tasks ... Arg_Oly, \n",
      "- Sample size = 128\n",
      "\n",
      "- Metrics\n",
      "\tCohen's Kappa:  0.7397392020769109\n",
      "\tAccuracy:       0.894\n",
      "\n",
      "\tLabels    | ['<ci>' '<ce>' '<word>']\n",
      "\tPrecision | [0.73170732 0.74162679 0.95403891]\n",
      "\tRecall    | [0.82984658 0.67863398 0.92605268]\n",
      "\tF1 score  | [0.77769306 0.70873342 0.9398375 ]\n"
     ]
    }
   ],
   "source": [
    "evaluate_reliability([\"Arg_Oly\"], ignore_tag=\"<DISFLUENCY>-<FILLER>\")"
   ]
  },
  {
   "cell_type": "code",
   "execution_count": 29,
   "metadata": {},
   "outputs": [
    {
     "name": "stdout",
     "output_type": "stream",
     "text": [
      "--- Analysis of Pause Location ---\n",
      "- Tasks ... Cartoon, \n",
      "- Sample size = 128\n",
      "\n",
      "- Metrics\n",
      "\tCohen's Kappa:  0.7433434831509741\n",
      "\tAccuracy:       0.889\n",
      "\n",
      "\tLabels    | ['<ci>' '<ce>' '<word>']\n",
      "\tPrecision | [0.70397004 0.75346852 0.9627649 ]\n",
      "\tRecall    | [0.84529592 0.71133501 0.91712655]\n",
      "\tF1 score  | [0.76818702 0.7317958  0.93939174]\n"
     ]
    }
   ],
   "source": [
    "evaluate_reliability([\"Cartoon\"], ignore_tag=\"<DISFLUENCY>-<FILLER>\")"
   ]
  },
  {
   "cell_type": "code",
   "execution_count": 30,
   "metadata": {},
   "outputs": [
    {
     "name": "stdout",
     "output_type": "stream",
     "text": [
      "--- Analysis of Pause Location ---\n",
      "- Tasks ... RtSwithoutRAA, \n",
      "- Sample size = 128\n",
      "\n",
      "- Metrics\n",
      "\tCohen's Kappa:  0.7267736383514194\n",
      "\tAccuracy:       0.882\n",
      "\n",
      "\tLabels    | ['<ci>' '<ce>' '<word>']\n",
      "\tPrecision | [0.70953164 0.71690307 0.95475566]\n",
      "\tRecall    | [0.83984438 0.66103542 0.9117232 ]\n",
      "\tF1 score  | [0.76920793 0.68783669 0.93274336]\n"
     ]
    }
   ],
   "source": [
    "evaluate_reliability([\"RtSwithoutRAA\"], ignore_tag=\"<DISFLUENCY>-<FILLER>\")"
   ]
  },
  {
   "cell_type": "code",
   "execution_count": 31,
   "metadata": {},
   "outputs": [
    {
     "name": "stdout",
     "output_type": "stream",
     "text": [
      "--- Analysis of Pause Location ---\n",
      "- Tasks ... RtSwithRAA, \n",
      "- Sample size = 128\n",
      "\n",
      "- Metrics\n",
      "\tCohen's Kappa:  0.7269164692421093\n",
      "\tAccuracy:       0.881\n",
      "\n",
      "\tLabels    | ['<ci>' '<ce>' '<word>']\n",
      "\tPrecision | [0.71509206 0.71542228 0.95256635]\n",
      "\tRecall    | [0.84033481 0.63463626 0.91348693]\n",
      "\tF1 score  | [0.77267117 0.6726122  0.93261744]\n"
     ]
    }
   ],
   "source": [
    "evaluate_reliability([\"RtSwithRAA\"], ignore_tag=\"<DISFLUENCY>-<FILLER>\")"
   ]
  },
  {
   "cell_type": "code",
   "execution_count": 32,
   "metadata": {},
   "outputs": [
    {
     "name": "stdout",
     "output_type": "stream",
     "text": [
      "--- Analysis of Pause Location ---\n",
      "- Tasks ... WoZ_Interview, \n",
      "- Sample size = 1743\n",
      "\n",
      "- Metrics\n",
      "\tCohen's Kappa:  0.6251470365992093\n",
      "\tAccuracy:       0.862\n",
      "\n",
      "\tLabels    | ['<ci>' '<ce>' '<word>']\n",
      "\tPrecision | [0.58232893 0.55223881 0.959684  ]\n",
      "\tRecall    | [0.79204125 0.61410788 0.88955064]\n",
      "\tF1 score  | [0.6711853  0.58153242 0.92328739]\n"
     ]
    }
   ],
   "source": [
    "evaluate_reliability([\"WoZ_Interview\"], ignore_tag=\"<DISFLUENCY>-<FILLER>\")"
   ]
  },
  {
   "cell_type": "markdown",
   "metadata": {},
   "source": [
    "#### 3.2.2. Beginners"
   ]
  },
  {
   "cell_type": "code",
   "execution_count": 33,
   "metadata": {},
   "outputs": [
    {
     "name": "stdout",
     "output_type": "stream",
     "text": [
      "--- Analysis of Pause Location ---\n",
      "- Tasks ... Arg_Oly, \n",
      "- Target rating ... [0, 1, 2]\n",
      "- Sample size = 35\n",
      "\n",
      "- Metrics\n",
      "\tCohen's Kappa:  0.728115031673858\n",
      "\tAccuracy:       0.880\n",
      "\n",
      "\tLabels    | ['<ci>' '<ce>' '<word>']\n",
      "\tPrecision | [0.78329393 0.7012987  0.92553487]\n",
      "\tRecall    | [0.79140127 0.60447761 0.93174825]\n",
      "\tF1 score  | [0.78732673 0.6492986  0.92863117]\n"
     ]
    }
   ],
   "source": [
    "evaluate_reliability([\"Arg_Oly\"], ignore_tag=\"<DISFLUENCY>-<FILLER>\", rating_filter=[0, 1, 2])"
   ]
  },
  {
   "cell_type": "code",
   "execution_count": 34,
   "metadata": {},
   "outputs": [
    {
     "name": "stdout",
     "output_type": "stream",
     "text": [
      "--- Analysis of Pause Location ---\n",
      "- Tasks ... Cartoon, \n",
      "- Target rating ... [0, 1, 2]\n",
      "- Sample size = 18\n",
      "\n",
      "- Metrics\n",
      "\tCohen's Kappa:  0.715874349905717\n",
      "\tAccuracy:       0.867\n",
      "\n",
      "\tLabels    | ['<ci>' '<ce>' '<word>']\n",
      "\tPrecision | [0.76820388 0.72682927 0.91670399]\n",
      "\tRecall    | [0.77955665 0.64224138 0.92290352]\n",
      "\tF1 score  | [0.77383863 0.6819222  0.9197933 ]\n"
     ]
    }
   ],
   "source": [
    "evaluate_reliability([\"Cartoon\"], ignore_tag=\"<DISFLUENCY>-<FILLER>\", rating_filter=[0, 1, 2])"
   ]
  },
  {
   "cell_type": "code",
   "execution_count": 35,
   "metadata": {},
   "outputs": [
    {
     "name": "stdout",
     "output_type": "stream",
     "text": [
      "--- Analysis of Pause Location ---\n",
      "- Tasks ... RtSwithoutRAA, \n",
      "- Target rating ... [0, 1, 2]\n",
      "- Sample size = 31\n",
      "\n",
      "- Metrics\n",
      "\tCohen's Kappa:  0.7282912924578773\n",
      "\tAccuracy:       0.873\n",
      "\n",
      "\tLabels    | ['<ci>' '<ce>' '<word>']\n",
      "\tPrecision | [0.74440396 0.65374677 0.94609341]\n",
      "\tRecall    | [0.84117647 0.62935323 0.90538847]\n",
      "\tF1 score  | [0.78983706 0.64131812 0.92529349]\n"
     ]
    }
   ],
   "source": [
    "evaluate_reliability([\"RtSwithoutRAA\"], ignore_tag=\"<DISFLUENCY>-<FILLER>\", rating_filter=[0, 1, 2])"
   ]
  },
  {
   "cell_type": "code",
   "execution_count": 36,
   "metadata": {},
   "outputs": [
    {
     "name": "stdout",
     "output_type": "stream",
     "text": [
      "--- Analysis of Pause Location ---\n",
      "- Tasks ... RtSwithRAA, \n",
      "- Target rating ... [0, 1, 2]\n",
      "- Sample size = 18\n",
      "\n",
      "- Metrics\n",
      "\tCohen's Kappa:  0.737504798100663\n",
      "\tAccuracy:       0.875\n",
      "\n",
      "\tLabels    | ['<ci>' '<ce>' '<word>']\n",
      "\tPrecision | [0.7758794  0.67582418 0.93435449]\n",
      "\tRecall    | [0.84463895 0.58293839 0.9135644 ]\n",
      "\tF1 score  | [0.80880042 0.6259542  0.92384249]\n"
     ]
    }
   ],
   "source": [
    "evaluate_reliability([\"RtSwithRAA\"], ignore_tag=\"<DISFLUENCY>-<FILLER>\", rating_filter=[0, 1, 2])"
   ]
  },
  {
   "cell_type": "code",
   "execution_count": 37,
   "metadata": {},
   "outputs": [
    {
     "name": "stdout",
     "output_type": "stream",
     "text": [
      "--- Analysis of Pause Location ---\n",
      "- Tasks ... WoZ_Interview, \n",
      "- Target rating ... [0, 1]\n",
      "- Sample size = 603\n",
      "\n",
      "- Metrics\n",
      "\tCohen's Kappa:  0.6094342055232786\n",
      "\tAccuracy:       0.847\n",
      "\n",
      "\tLabels    | ['<ci>' '<ce>' '<word>']\n",
      "\tPrecision | [0.65502183 0.54545455 0.91948405]\n",
      "\tRecall    | [0.7094062  0.52229299 0.9025723 ]\n",
      "\tF1 score  | [0.68113017 0.53362256 0.91094969]\n"
     ]
    }
   ],
   "source": [
    "evaluate_reliability([\"WoZ_Interview\"], ignore_tag=\"<DISFLUENCY>-<FILLER>\", rating_filter=[0, 1])"
   ]
  },
  {
   "cell_type": "markdown",
   "metadata": {},
   "source": [
    "#### 3.2.3. Intermediate"
   ]
  },
  {
   "cell_type": "code",
   "execution_count": 38,
   "metadata": {},
   "outputs": [
    {
     "name": "stdout",
     "output_type": "stream",
     "text": [
      "--- Analysis of Pause Location ---\n",
      "- Tasks ... Arg_Oly, \n",
      "- Target rating ... [3, 4, 5]\n",
      "- Sample size = 66\n",
      "\n",
      "- Metrics\n",
      "\tCohen's Kappa:  0.7448269936539953\n",
      "\tAccuracy:       0.893\n",
      "\n",
      "\tLabels    | ['<ci>' '<ce>' '<word>']\n",
      "\tPrecision | [0.73351125 0.75495495 0.95525755]\n",
      "\tRecall    | [0.84832451 0.68914474 0.92042024]\n",
      "\tF1 score  | [0.78675118 0.7205503  0.93751538]\n"
     ]
    }
   ],
   "source": [
    "evaluate_reliability([\"Arg_Oly\"], ignore_tag=\"<DISFLUENCY>-<FILLER>\", rating_filter=[3, 4, 5])"
   ]
  },
  {
   "cell_type": "code",
   "execution_count": 39,
   "metadata": {},
   "outputs": [
    {
     "name": "stdout",
     "output_type": "stream",
     "text": [
      "--- Analysis of Pause Location ---\n",
      "- Tasks ... Cartoon, "
     ]
    },
    {
     "name": "stdout",
     "output_type": "stream",
     "text": [
      "\n",
      "- Target rating ... [3, 4, 5]\n",
      "- Sample size = 78\n",
      "\n",
      "- Metrics\n",
      "\tCohen's Kappa:  0.7460677632244399\n",
      "\tAccuracy:       0.885\n",
      "\n",
      "\tLabels    | ['<ci>' '<ce>' '<word>']\n",
      "\tPrecision | [0.71037003 0.7515639  0.96352169]\n",
      "\tRecall    | [0.85864163 0.70910624 0.91007889]\n",
      "\tF1 score  | [0.7775     0.729718   0.93603809]\n"
     ]
    }
   ],
   "source": [
    "evaluate_reliability([\"Cartoon\"], ignore_tag=\"<DISFLUENCY>-<FILLER>\", rating_filter=[3, 4, 5])"
   ]
  },
  {
   "cell_type": "code",
   "execution_count": 40,
   "metadata": {},
   "outputs": [
    {
     "name": "stdout",
     "output_type": "stream",
     "text": [
      "--- Analysis of Pause Location ---\n",
      "- Tasks ... RtSwithoutRAA, \n",
      "- Target rating ... [3, 4, 5]\n",
      "- Sample size = 68\n",
      "\n",
      "- Metrics\n",
      "\tCohen's Kappa:  0.7237150315601042\n",
      "\tAccuracy:       0.879\n",
      "\n",
      "\tLabels    | ['<ci>' '<ce>' '<word>']\n",
      "\tPrecision | [0.70226096 0.72377622 0.95467695]\n",
      "\tRecall    | [0.84220843 0.65026178 0.90967564]\n",
      "\tF1 score  | [0.76589424 0.6850524  0.93163318]\n"
     ]
    }
   ],
   "source": [
    "evaluate_reliability([\"RtSwithoutRAA\"], ignore_tag=\"<DISFLUENCY>-<FILLER>\", rating_filter=[3, 4, 5])"
   ]
  },
  {
   "cell_type": "code",
   "execution_count": 41,
   "metadata": {},
   "outputs": [
    {
     "name": "stdout",
     "output_type": "stream",
     "text": [
      "--- Analysis of Pause Location ---\n",
      "- Tasks ... RtSwithRAA, "
     ]
    },
    {
     "name": "stdout",
     "output_type": "stream",
     "text": [
      "\n",
      "- Target rating ... [3, 4, 5]\n",
      "- Sample size = 81\n",
      "\n",
      "- Metrics\n",
      "\tCohen's Kappa:  0.7315934604213616\n",
      "\tAccuracy:       0.882\n",
      "\n",
      "\tLabels    | ['<ci>' '<ce>' '<word>']\n",
      "\tPrecision | [0.7191417  0.72222222 0.95349915]\n",
      "\tRecall    | [0.84603849 0.65337955 0.91153449]\n",
      "\tF1 score  | [0.77744603 0.68607825 0.9320447 ]\n"
     ]
    }
   ],
   "source": [
    "evaluate_reliability([\"RtSwithRAA\"], ignore_tag=\"<DISFLUENCY>-<FILLER>\", rating_filter=[3, 4, 5])"
   ]
  },
  {
   "cell_type": "code",
   "execution_count": 42,
   "metadata": {},
   "outputs": [
    {
     "name": "stdout",
     "output_type": "stream",
     "text": [
      "--- Analysis of Pause Location ---\n",
      "- Tasks ... WoZ_Interview, \n",
      "- Target rating ... [2, 3]\n",
      "- Sample size = 979\n",
      "\n",
      "- Metrics\n",
      "\tCohen's Kappa:  0.6338831708702791\n",
      "\tAccuracy:       0.861\n",
      "\n",
      "\tLabels    | ['<ci>' '<ce>' '<word>']\n",
      "\tPrecision | [0.57632933 0.57748777 0.96503699]\n",
      "\tRecall    | [0.82101405 0.63251936 0.88310264]\n",
      "\tF1 score  | [0.67724868 0.60375213 0.9222536 ]\n"
     ]
    }
   ],
   "source": [
    "evaluate_reliability([\"WoZ_Interview\"], ignore_tag=\"<DISFLUENCY>-<FILLER>\", rating_filter=[2, 3])"
   ]
  },
  {
   "cell_type": "markdown",
   "metadata": {},
   "source": [
    "#### 3.2.4. Advanced"
   ]
  },
  {
   "cell_type": "code",
   "execution_count": 43,
   "metadata": {},
   "outputs": [
    {
     "name": "stdout",
     "output_type": "stream",
     "text": [
      "--- Analysis of Pause Location ---\n",
      "- Tasks ... Arg_Oly, \n",
      "- Target rating ... [6, 7, 8]\n",
      "- Sample size = 27\n",
      "\n",
      "- Metrics\n",
      "\tCohen's Kappa:  0.7348963787850904\n",
      "\tAccuracy:       0.909\n",
      "\n",
      "\tLabels    | ['<ci>' '<ce>' '<word>']\n",
      "\tPrecision | [0.66058764 0.74903475 0.97560976]\n",
      "\tRecall    | [0.83804627 0.72932331 0.93188374]\n",
      "\tF1 score  | [0.7388102  0.73904762 0.95324557]\n"
     ]
    }
   ],
   "source": [
    "evaluate_reliability([\"Arg_Oly\"], ignore_tag=\"<DISFLUENCY>-<FILLER>\", rating_filter=[6, 7, 8])"
   ]
  },
  {
   "cell_type": "code",
   "execution_count": 44,
   "metadata": {},
   "outputs": [
    {
     "name": "stdout",
     "output_type": "stream",
     "text": [
      "--- Analysis of Pause Location ---\n",
      "- Tasks ... Cartoon, \n",
      "- Target rating ... [6, 7, 8]\n",
      "- Sample size = 32\n",
      "\n",
      "- Metrics\n",
      "\tCohen's Kappa:  0.7442576390283934\n",
      "\tAccuracy:       0.905\n",
      "\n",
      "\tLabels    | ['<ci>' '<ce>' '<word>']\n",
      "\tPrecision | [0.64901561 0.76727273 0.97784912]\n",
      "\tRecall    | [0.84977778 0.74426808 0.92851699]\n",
      "\tF1 score  | [0.73595073 0.75559534 0.95254476]\n"
     ]
    }
   ],
   "source": [
    "evaluate_reliability([\"Cartoon\"], ignore_tag=\"<DISFLUENCY>-<FILLER>\", rating_filter=[6, 7, 8])"
   ]
  },
  {
   "cell_type": "code",
   "execution_count": 45,
   "metadata": {},
   "outputs": [
    {
     "name": "stdout",
     "output_type": "stream",
     "text": [
      "--- Analysis of Pause Location ---\n",
      "- Tasks ... RtSwithoutRAA, \n",
      "- Target rating ... [6, 7, 8]\n",
      "- Sample size = 29\n",
      "\n",
      "- Metrics\n",
      "\tCohen's Kappa:  0.7280804867143461\n",
      "\tAccuracy:       0.893\n",
      "\n",
      "\tLabels    | ['<ci>' '<ce>' '<word>']\n",
      "\tPrecision | [0.68596491 0.75838926 0.96148099]\n",
      "\tRecall    | [0.83309659 0.70920502 0.92008262]\n",
      "\tF1 score  | [0.75240539 0.73297297 0.94032638]\n"
     ]
    }
   ],
   "source": [
    "evaluate_reliability([\"RtSwithoutRAA\"], ignore_tag=\"<DISFLUENCY>-<FILLER>\", rating_filter=[6, 7, 8])"
   ]
  },
  {
   "cell_type": "code",
   "execution_count": 46,
   "metadata": {},
   "outputs": [
    {
     "name": "stdout",
     "output_type": "stream",
     "text": [
      "--- Analysis of Pause Location ---\n",
      "- Tasks ... RtSwithRAA, \n",
      "- Target rating ... [6, 7, 8]\n",
      "- Sample size = 29\n",
      "\n",
      "- Metrics\n",
      "\tCohen's Kappa:  0.7066849445665323\n",
      "\tAccuracy:       0.882\n",
      "\n",
      "\tLabels    | ['<ci>' '<ce>' '<word>']\n",
      "\tPrecision | [0.6693502  0.71568627 0.95763293]\n",
      "\tRecall    | [0.82145378 0.61215933 0.91780372]\n",
      "\tF1 score  | [0.73764259 0.65988701 0.93729539]\n"
     ]
    }
   ],
   "source": [
    "evaluate_reliability([\"RtSwithRAA\"], ignore_tag=\"<DISFLUENCY>-<FILLER>\", rating_filter=[6, 7, 8])"
   ]
  },
  {
   "cell_type": "code",
   "execution_count": 47,
   "metadata": {},
   "outputs": [
    {
     "name": "stdout",
     "output_type": "stream",
     "text": [
      "--- Analysis of Pause Location ---\n",
      "- Tasks ... WoZ_Interview, \n",
      "- Target rating ... [4, 5]\n",
      "- Sample size = 161\n",
      "\n",
      "- Metrics\n",
      "\tCohen's Kappa:  0.5947254523995277\n",
      "\tAccuracy:       0.884\n",
      "\n",
      "\tLabels    | ['<ci>' '<ce>' '<word>']\n",
      "\tPrecision | [0.49471974 0.44102564 0.98565414]\n",
      "\tRecall    | [0.812      0.66153846 0.89991458]\n",
      "\tF1 score  | [0.61484099 0.52923077 0.94083501]\n"
     ]
    }
   ],
   "source": [
    "evaluate_reliability([\"WoZ_Interview\"], ignore_tag=\"<DISFLUENCY>-<FILLER>\", rating_filter=[4, 5])"
   ]
  },
  {
   "cell_type": "code",
   "execution_count": null,
   "metadata": {},
   "outputs": [],
   "source": []
  }
 ],
 "metadata": {
  "kernelspec": {
   "display_name": "teai-incremental-classifier",
   "language": "python",
   "name": "python3"
  },
  "language_info": {
   "codemirror_mode": {
    "name": "ipython",
    "version": 3
   },
   "file_extension": ".py",
   "mimetype": "text/x-python",
   "name": "python",
   "nbconvert_exporter": "python",
   "pygments_lexer": "ipython3",
   "version": "3.9.6"
  }
 },
 "nbformat": 4,
 "nbformat_minor": 2
}
