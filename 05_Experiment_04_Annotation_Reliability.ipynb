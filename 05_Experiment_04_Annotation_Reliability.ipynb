{
 "cells": [
  {
   "cell_type": "markdown",
   "metadata": {},
   "source": [
    "5/14 (Tue) | Experiment\n",
    "\n",
    "# Evaluation of Reliability of Automatic Annotation"
   ]
  },
  {
   "cell_type": "markdown",
   "metadata": {},
   "source": [
    "## 1. Introduction\n",
    "\n",
    "This notebook evalutate the reliability of the proposed automatic temporal feature annotation system.\n",
    "More specifically, I evaluate the system in terms of the following metrics.\n",
    "\n",
    "- Cohen's kappa\n",
    "- Accuracy score\n",
    "- Precision\n",
    "- Recall\n",
    "- F1 Score\n",
    "\n",
    "Before starting the evaluation, the following code block loads required packages and defines global variables."
   ]
  },
  {
   "cell_type": "code",
   "execution_count": 1,
   "metadata": {},
   "outputs": [],
   "source": [
    "from typing import List, Tuple, Generator, Optional\n",
    "from pathlib import Path\n",
    "\n",
    "import numpy as np\n",
    "import pandas as pd\n",
    "from sklearn.metrics import accuracy_score, precision_recall_fscore_support, cohen_kappa_score\n",
    "\n",
    "from utils.mfr import logit_2_rating\n",
    "\n",
    "DATA_DIR = Path(\"/home/matsuura/Development/app/feature_extraction_api/experiment/data\")\n",
    "\n",
    "TASK = [\"Arg_Oly\", \"Cartoon\", \"RtSwithoutRAA\", \"RtSwithRAA\", \"WoZ_Interview\"]"
   ]
  },
  {
   "cell_type": "markdown",
   "metadata": {},
   "source": [
    "---\n",
    "\n",
    "## 2. Define Functions\n",
    "\n",
    "This section defines functions for the analyses.\n",
    "The following code block defines "
   ]
  },
  {
   "cell_type": "code",
   "execution_count": 2,
   "metadata": {},
   "outputs": [],
   "source": [
    "def label_generator(\n",
    "        task: str,\n",
    "        ignore_tag: str, \n",
    "        tags: Tuple[str] =(\"<disfluency>\", \"<ci>\", \"<ce>\", \"<filler>\"), \n",
    "        word: str =\"<word>\",\n",
    "        rating_filter: Optional[List[int]] =None,\n",
    "        bert: bool =False\n",
    ") -> Generator[Tuple[list, list], None, None]:\n",
    "    load_dir = DATA_DIR / f\"{task}/11_SCTK_Outputs\"\n",
    "\n",
    "    pf_path = DATA_DIR / f\"{task}/12_PF_Rating/pf_rating.csv\"\n",
    "    df_pf = pd.read_csv(pf_path)\n",
    "    uid_list = df_pf[\"uid\"].to_numpy()\n",
    "\n",
    "    if rating_filter is not None:\n",
    "        logit_path = pf_path.parent / \"logit.csv\"\n",
    "        threshold_path = logit_path.parent / \"threshold.csv\"\n",
    "        \n",
    "        df_logit = pd.read_csv(logit_path, index_col=0)\n",
    "        rating_list = logit_2_rating(df_logit[\"theta\"], threshold_path)\n",
    "\n",
    "        mask = np.full(rating_list.shape, False, dtype=bool)\n",
    "        for rating in rating_filter:\n",
    "            mask = mask | (rating_list == rating)\n",
    "        \n",
    "        uid_list = uid_list[mask]\n",
    "\n",
    "    for uid in uid_list:\n",
    "        if task == \"WoZ_Interview\":\n",
    "            uid = str(int(uid)).zfill(3)\n",
    "\n",
    "        filename_pattern = f\"{uid}*_ignore_{ignore_tag}.txt\"\n",
    "        if bert:\n",
    "            filename_pattern = f\"{uid}*_ignore_{ignore_tag}_bert.txt\"\n",
    "        for filename in load_dir.glob(filename_pattern):\n",
    "            with open(filename, \"r\") as f:\n",
    "                true = []\n",
    "                pred = []\n",
    "                flag = 0\n",
    "\n",
    "                for line in f.readlines():\n",
    "                    if line[0] == \"<\":\n",
    "                        continue\n",
    "\n",
    "                    line = line.replace(\"\\n\", \"\")\n",
    "\n",
    "                    if len(line) == 1 and line.isupper():\n",
    "                        flag += 1\n",
    "                        continue\n",
    "\n",
    "                    line = line.replace(\"\\\"\", \"\")\n",
    "                    if not(line in tags):\n",
    "                        line = word\n",
    "\n",
    "                    if flag == 1:\n",
    "                        true.append(line)\n",
    "                        flag += 1\n",
    "                    elif flag == 2:\n",
    "                        pred.append(line)\n",
    "                        flag = 0\n",
    "\n",
    "            yield true, pred"
   ]
  },
  {
   "cell_type": "markdown",
   "metadata": {},
   "source": [
    "The following code block defines a function to convert labels to ids."
   ]
  },
  {
   "cell_type": "code",
   "execution_count": 3,
   "metadata": {},
   "outputs": [],
   "source": [
    "def tag_2_id(\n",
    "        tag_list: List[str], \n",
    "        tags: List[str] =[\"<disfluency>\", \"<ci>\", \"<ce>\", \"<filler>\", \"<word>\"]\n",
    ") -> List[str]:\n",
    "    tag_id_list = []\n",
    "    for tag in tag_list:\n",
    "        i = tags.index(tag)\n",
    "        tag_id_list.append(i)\n",
    "\n",
    "    return tag_id_list"
   ]
  },
  {
   "cell_type": "markdown",
   "metadata": {},
   "source": [
    "The following code block defines a function to calculate Cronbach's Alpha."
   ]
  },
  {
   "cell_type": "code",
   "execution_count": 4,
   "metadata": {},
   "outputs": [],
   "source": [
    "def cronbach_alpha(true: List[int], pred: List[int]):\n",
    "    mtx = np.array([true, pred])\n",
    "    var_by_items = np.var(mtx, axis=0)\n",
    "    sum_var_by_items = np.sum(var_by_items)\n",
    "\n",
    "    items_sum = np.sum(mtx, axis=1)\n",
    "    var_items_sum = np.var(items_sum)\n",
    "\n",
    "    n_items = len(true)\n",
    "\n",
    "    alpha = n_items / (n_items - 1) * (1 - sum_var_by_items / var_items_sum)\n",
    "\n",
    "    return alpha"
   ]
  },
  {
   "cell_type": "markdown",
   "metadata": {},
   "source": [
    "The following code block defines a function to calculate reliability metrics."
   ]
  },
  {
   "cell_type": "code",
   "execution_count": 5,
   "metadata": {},
   "outputs": [],
   "source": [
    "def evaluate_reliability(\n",
    "        task_list: List[str], \n",
    "        ignore_tag: str,\n",
    "        rating_filter: Optional[List[int]] =None\n",
    ") -> None:\n",
    "    all_true = []\n",
    "    all_pred = []\n",
    "\n",
    "    if ignore_tag == \"<CI>-<CE>-<FILLER>\":\n",
    "        tags = [\"<disfluency>\", \"<word>\"]\n",
    "        print(f\"--- Analysis of Disfluency ---\")\n",
    "\n",
    "    elif ignore_tag == \"<CI>-<CE>\":\n",
    "        tags = [\"<disfluency>\", \"<filler>\", \"<word>\"]\n",
    "        print(f\"--- Analysis of Disfluency & Filler ---\")\n",
    "\n",
    "    elif ignore_tag == \"<DISFLUENCY>-<FILLER>\":\n",
    "        tags = [\"<ci>\", \"<ce>\", \"<word>\"]\n",
    "        print(f\"--- Analysis of Pause Location ---\")\n",
    "\n",
    "    print(\"- Tasks ... \", end=\"\")\n",
    "\n",
    "    sample_size = 0\n",
    "    for task in task_list:\n",
    "        print(f\"{task}, \", end=\"\")\n",
    "        for true, pred in label_generator(task, ignore_tag, rating_filter=rating_filter):\n",
    "            true = tag_2_id(true, tags=tags)\n",
    "            pred = tag_2_id(pred, tags=tags)\n",
    "\n",
    "            all_true += true\n",
    "            all_pred += pred\n",
    "            sample_size += 1\n",
    "\n",
    "    if rating_filter is not None:\n",
    "        print(f\"\\n- Target rating ... {rating_filter}\")\n",
    "    else:\n",
    "        print()\n",
    "    print(f\"- Sample size = {sample_size}\")\n",
    "\n",
    "    acc = accuracy_score(all_true, all_pred)\n",
    "    p, r, f, _ = precision_recall_fscore_support(all_true, all_pred)\n",
    "    # a = cronbach_alpha(all_true, all_pred)\n",
    "    kappa = cohen_kappa_score(all_true, all_pred)\n",
    "\n",
    "    print(f\"\\n- Metrics\")\n",
    "    # print(f\"\\tCronbach Alpha: {a}\")\n",
    "    print(f\"\\tCohen's Kappa:  {kappa}\")\n",
    "    print(f\"\\tAccuracy:       {acc:.03f}\\n\")\n",
    "\n",
    "    print(f\"\\tLabels    | {np.array(tags)}\")\n",
    "    print(f\"\\tPrecision | {p}\") \n",
    "    print(f\"\\tRecall    | {r}\")\n",
    "    print(f\"\\tF1 score  | {f}\")"
   ]
  },
  {
   "cell_type": "markdown",
   "metadata": {},
   "source": [
    "---\n",
    "\n",
    "## 3. Reliability Analyses\n",
    "\n",
    "This section conducts reliability analyses."
   ]
  },
  {
   "cell_type": "markdown",
   "metadata": {},
   "source": [
    "### 3.1. Disfluency Detection\n",
    "\n",
    "#### 3.1.1. All Ratings"
   ]
  },
  {
   "cell_type": "code",
   "execution_count": 6,
   "metadata": {},
   "outputs": [
    {
     "name": "stdout",
     "output_type": "stream",
     "text": [
      "--- Analysis of Disfluency ---\n",
      "- Tasks ... Arg_Oly, Cartoon, RtSwithoutRAA, RtSwithRAA, WoZ_Interview, \n",
      "- Sample size = 2255\n",
      "\n",
      "- Metrics\n",
      "\tCohen's Kappa:  0.6584217734421212\n",
      "\tAccuracy:       0.935\n",
      "\n",
      "\tLabels    | ['<disfluency>' '<word>']\n",
      "\tPrecision | [0.73564464 0.95755134]\n",
      "\tRecall    | [0.65753614 0.97032146]\n",
      "\tF1 score  | [0.69440082 0.9638941 ]\n"
     ]
    }
   ],
   "source": [
    "evaluate_reliability(TASK, ignore_tag=\"<CI>-<CE>-<FILLER>\")"
   ]
  },
  {
   "cell_type": "code",
   "execution_count": 7,
   "metadata": {},
   "outputs": [
    {
     "name": "stdout",
     "output_type": "stream",
     "text": [
      "--- Analysis of Disfluency ---\n",
      "- Tasks ... Arg_Oly, \n",
      "- Sample size = 128\n",
      "\n",
      "- Metrics\n",
      "\tCohen's Kappa:  0.6886630287763778\n",
      "\tAccuracy:       0.942\n",
      "\n",
      "\tLabels    | ['<disfluency>' '<word>']\n",
      "\tPrecision | [0.73786949 0.96492007]\n",
      "\tRecall    | [0.70522388 0.97002742]\n",
      "\tF1 score  | [0.72117743 0.96746701]\n"
     ]
    }
   ],
   "source": [
    "evaluate_reliability([\"Arg_Oly\"], ignore_tag=\"<CI>-<CE>-<FILLER>\")"
   ]
  },
  {
   "cell_type": "code",
   "execution_count": 8,
   "metadata": {},
   "outputs": [
    {
     "name": "stdout",
     "output_type": "stream",
     "text": [
      "--- Analysis of Disfluency ---\n",
      "- Tasks ... Cartoon, \n",
      "- Sample size = 128\n",
      "\n",
      "- Metrics\n",
      "\tCohen's Kappa:  0.7138173312465022\n",
      "\tAccuracy:       0.941\n",
      "\n",
      "\tLabels    | ['<disfluency>' '<word>']\n",
      "\tPrecision | [0.79102106 0.95957311]\n",
      "\tRecall    | [0.70778528 0.97374857]\n",
      "\tF1 score  | [0.74709193 0.96660887]\n"
     ]
    }
   ],
   "source": [
    "evaluate_reliability([\"Cartoon\"], ignore_tag=\"<CI>-<CE>-<FILLER>\")"
   ]
  },
  {
   "cell_type": "code",
   "execution_count": 9,
   "metadata": {},
   "outputs": [
    {
     "name": "stdout",
     "output_type": "stream",
     "text": [
      "--- Analysis of Disfluency ---\n",
      "- Tasks ... RtSwithoutRAA, \n",
      "- Sample size = 128\n",
      "\n",
      "- Metrics\n",
      "\tCohen's Kappa:  0.6802750285020682\n",
      "\tAccuracy:       0.934\n",
      "\n",
      "\tLabels    | ['<disfluency>' '<word>']\n",
      "\tPrecision | [0.77458694 0.95359189]\n",
      "\tRecall    | [0.66768396 0.97233221]\n",
      "\tF1 score  | [0.71717356 0.96287087]\n"
     ]
    }
   ],
   "source": [
    "evaluate_reliability([\"RtSwithoutRAA\"], ignore_tag=\"<CI>-<CE>-<FILLER>\")"
   ]
  },
  {
   "cell_type": "code",
   "execution_count": 10,
   "metadata": {},
   "outputs": [
    {
     "name": "stdout",
     "output_type": "stream",
     "text": [
      "--- Analysis of Disfluency ---\n",
      "- Tasks ... RtSwithRAA, "
     ]
    },
    {
     "name": "stdout",
     "output_type": "stream",
     "text": [
      "\n",
      "- Sample size = 128\n",
      "\n",
      "- Metrics\n",
      "\tCohen's Kappa:  0.6455741987370316\n",
      "\tAccuracy:       0.928\n",
      "\n",
      "\tLabels    | ['<disfluency>' '<word>']\n",
      "\tPrecision | [0.73043818 0.95189814]\n",
      "\tRecall    | [0.64669207 0.96699243]\n",
      "\tF1 score  | [0.68601874 0.95938592]\n"
     ]
    }
   ],
   "source": [
    "evaluate_reliability([\"RtSwithRAA\"], ignore_tag=\"<CI>-<CE>-<FILLER>\")"
   ]
  },
  {
   "cell_type": "code",
   "execution_count": 11,
   "metadata": {},
   "outputs": [
    {
     "name": "stdout",
     "output_type": "stream",
     "text": [
      "--- Analysis of Disfluency ---\n",
      "- Tasks ... WoZ_Interview, \n",
      "- Sample size = 1743\n",
      "\n",
      "- Metrics\n",
      "\tCohen's Kappa:  0.596980345482176\n",
      "\tAccuracy:       0.934\n",
      "\n",
      "\tLabels    | ['<disfluency>' '<word>']\n",
      "\tPrecision | [0.67046101 0.95876073]\n",
      "\tRecall    | [0.59918616 0.96936346]\n",
      "\tF1 score  | [0.63282299 0.96403294]\n"
     ]
    }
   ],
   "source": [
    "evaluate_reliability([\"WoZ_Interview\"], ignore_tag=\"<CI>-<CE>-<FILLER>\")\n",
    "# TODO: df_annotation_manu の disfluency の位置の訂正"
   ]
  },
  {
   "cell_type": "markdown",
   "metadata": {},
   "source": [
    "Disfluency Detector のアップデートで，長い系列の言い淀みのアノテーションが可能になった．\n",
    "ただし，それが不必要な箇所まで言い淀みと判定してしまうケースが増えていそう(e.g., 008_031)．\n",
    "実際に，recall が 0.631 → 0.804 と APSIPA から値が向上しているのに対して，precision は 0.832 → 0.565 と値が大きく低下している．取りこぼしが少なくなった反面，余計な箇所まで言い淀みと判定していまい，その結果 kappa が低下した可能性 大\n",
    "\n",
    "**TODO: 旧版の言い淀み検出に取り替えた場合の性能を見たい / もしくは，L1 で学習したモデルに変更した場合はどうなる...？**"
   ]
  },
  {
   "cell_type": "markdown",
   "metadata": {},
   "source": [
    "#### 3.1.2. Beginners"
   ]
  },
  {
   "cell_type": "code",
   "execution_count": 12,
   "metadata": {},
   "outputs": [
    {
     "name": "stdout",
     "output_type": "stream",
     "text": [
      "--- Analysis of Disfluency ---\n",
      "- Tasks ... Arg_Oly, \n",
      "- Target rating ... [0, 1, 2]\n",
      "- Sample size = 35\n",
      "\n",
      "- Metrics\n",
      "\tCohen's Kappa:  0.6679425246554411\n",
      "\tAccuracy:       0.919\n",
      "\n",
      "\tLabels    | ['<disfluency>' '<word>']\n",
      "\tPrecision | [0.75181159 0.94524414]\n",
      "\tRecall    | [0.68144499 0.96069994]\n",
      "\tF1 score  | [0.71490095 0.95290938]\n"
     ]
    }
   ],
   "source": [
    "evaluate_reliability([\"Arg_Oly\"], ignore_tag=\"<CI>-<CE>-<FILLER>\", rating_filter=[0, 1, 2])"
   ]
  },
  {
   "cell_type": "code",
   "execution_count": 13,
   "metadata": {},
   "outputs": [
    {
     "name": "stdout",
     "output_type": "stream",
     "text": [
      "--- Analysis of Disfluency ---\n",
      "- Tasks ... Cartoon, \n",
      "- Target rating ... [0, 1, 2]\n",
      "- Sample size = 18\n",
      "\n",
      "- Metrics\n",
      "\tCohen's Kappa:  0.6778112798183122\n",
      "\tAccuracy:       0.920\n",
      "\n",
      "\tLabels    | ['<disfluency>' '<word>']\n",
      "\tPrecision | [0.76068376 0.94548786]\n",
      "\tRecall    | [0.69170984 0.96089385]\n",
      "\tF1 score  | [0.72455902 0.95312861]\n"
     ]
    }
   ],
   "source": [
    "evaluate_reliability([\"Cartoon\"], ignore_tag=\"<CI>-<CE>-<FILLER>\", rating_filter=[0, 1, 2])"
   ]
  },
  {
   "cell_type": "code",
   "execution_count": 14,
   "metadata": {},
   "outputs": [
    {
     "name": "stdout",
     "output_type": "stream",
     "text": [
      "--- Analysis of Disfluency ---\n",
      "- Tasks ... RtSwithoutRAA, \n",
      "- Target rating ... [0, 1, 2]\n",
      "- Sample size = 31\n",
      "\n",
      "- Metrics\n",
      "\tCohen's Kappa:  0.6980290721568795\n",
      "\tAccuracy:       0.926\n",
      "\n",
      "\tLabels    | ['<disfluency>' '<word>']\n",
      "\tPrecision | [0.7980226  0.94551351]\n",
      "\tRecall    | [0.69155447 0.96833481]\n",
      "\tF1 score  | [0.74098361 0.9567881 ]\n"
     ]
    }
   ],
   "source": [
    "evaluate_reliability([\"RtSwithoutRAA\"], ignore_tag=\"<CI>-<CE>-<FILLER>\", rating_filter=[0, 1, 2])"
   ]
  },
  {
   "cell_type": "code",
   "execution_count": 15,
   "metadata": {},
   "outputs": [
    {
     "name": "stdout",
     "output_type": "stream",
     "text": [
      "--- Analysis of Disfluency ---\n",
      "- Tasks ... RtSwithRAA, \n",
      "- Target rating ... [0, 1, 2]\n",
      "- Sample size = 18\n",
      "\n",
      "- Metrics\n",
      "\tCohen's Kappa:  0.6598173488722505\n",
      "\tAccuracy:       0.917\n",
      "\n",
      "\tLabels    | ['<disfluency>' '<word>']\n",
      "\tPrecision | [0.71273713 0.95081967]\n",
      "\tRecall    | [0.70320856 0.95293073]\n",
      "\tF1 score  | [0.70794078 0.95187403]\n"
     ]
    }
   ],
   "source": [
    "evaluate_reliability([\"RtSwithRAA\"], ignore_tag=\"<CI>-<CE>-<FILLER>\", rating_filter=[0, 1, 2])"
   ]
  },
  {
   "cell_type": "code",
   "execution_count": 16,
   "metadata": {},
   "outputs": [
    {
     "name": "stdout",
     "output_type": "stream",
     "text": [
      "--- Analysis of Disfluency ---\n",
      "- Tasks ... WoZ_Interview, "
     ]
    },
    {
     "name": "stdout",
     "output_type": "stream",
     "text": [
      "\n",
      "- Target rating ... [0, 1]\n",
      "- Sample size = 603\n",
      "\n",
      "- Metrics\n",
      "\tCohen's Kappa:  0.6073073609970681\n",
      "\tAccuracy:       0.926\n",
      "\n",
      "\tLabels    | ['<disfluency>' '<word>']\n",
      "\tPrecision | [0.74657534 0.94376123]\n",
      "\tRecall    | [0.57247899 0.97362794]\n",
      "\tF1 score  | [0.64803805 0.95846197]\n"
     ]
    }
   ],
   "source": [
    "evaluate_reliability([\"WoZ_Interview\"], ignore_tag=\"<CI>-<CE>-<FILLER>\", rating_filter=[0, 1])"
   ]
  },
  {
   "cell_type": "markdown",
   "metadata": {},
   "source": [
    "#### 3.1.3. Intermediate"
   ]
  },
  {
   "cell_type": "code",
   "execution_count": 17,
   "metadata": {},
   "outputs": [
    {
     "name": "stdout",
     "output_type": "stream",
     "text": [
      "--- Analysis of Disfluency ---\n",
      "- Tasks ... Arg_Oly, \n",
      "- Target rating ... [3, 4, 5]\n",
      "- Sample size = 66\n",
      "\n",
      "- Metrics\n",
      "\tCohen's Kappa:  0.7081380226444488\n",
      "\tAccuracy:       0.944\n",
      "\n",
      "\tLabels    | ['<disfluency>' '<word>']\n",
      "\tPrecision | [0.74733475 0.967456  ]\n",
      "\tRecall    | [0.73173278 0.9699124 ]\n",
      "\tF1 score  | [0.73945148 0.96868264]\n"
     ]
    }
   ],
   "source": [
    "evaluate_reliability([\"Arg_Oly\"], ignore_tag=\"<CI>-<CE>-<FILLER>\", rating_filter=[3, 4, 5])"
   ]
  },
  {
   "cell_type": "code",
   "execution_count": 18,
   "metadata": {},
   "outputs": [
    {
     "name": "stdout",
     "output_type": "stream",
     "text": [
      "--- Analysis of Disfluency ---\n",
      "- Tasks ... Cartoon, \n",
      "- Target rating ... [3, 4, 5]\n",
      "- Sample size = 78\n",
      "\n",
      "- Metrics\n",
      "\tCohen's Kappa:  0.7362660769058755\n",
      "\tAccuracy:       0.943\n",
      "\n",
      "\tLabels    | ['<disfluency>' '<word>']\n",
      "\tPrecision | [0.80125392 0.96175697]\n",
      "\tRecall    | [0.73915558 0.9728107 ]\n",
      "\tF1 score  | [0.76895307 0.96725226]\n"
     ]
    }
   ],
   "source": [
    "evaluate_reliability([\"Cartoon\"], ignore_tag=\"<CI>-<CE>-<FILLER>\", rating_filter=[3, 4, 5])"
   ]
  },
  {
   "cell_type": "code",
   "execution_count": 19,
   "metadata": {},
   "outputs": [
    {
     "name": "stdout",
     "output_type": "stream",
     "text": [
      "--- Analysis of Disfluency ---\n",
      "- Tasks ... RtSwithoutRAA, \n",
      "- Target rating ... [3, 4, 5]\n",
      "- Sample size = 68\n",
      "\n",
      "- Metrics\n",
      "\tCohen's Kappa:  0.6609717820257859\n",
      "\tAccuracy:       0.931\n",
      "\n",
      "\tLabels    | ['<disfluency>' '<word>']\n",
      "\tPrecision | [0.76350245 0.95097477]\n",
      "\tRecall    | [0.64522822 0.97177734]\n",
      "\tF1 score  | [0.6994003  0.96126352]\n"
     ]
    }
   ],
   "source": [
    "evaluate_reliability([\"RtSwithoutRAA\"], ignore_tag=\"<CI>-<CE>-<FILLER>\", rating_filter=[3, 4, 5])"
   ]
  },
  {
   "cell_type": "code",
   "execution_count": 20,
   "metadata": {},
   "outputs": [
    {
     "name": "stdout",
     "output_type": "stream",
     "text": [
      "--- Analysis of Disfluency ---\n",
      "- Tasks ... RtSwithRAA, \n",
      "- Target rating ... [3, 4, 5]\n",
      "- Sample size = 81\n",
      "\n",
      "- Metrics\n",
      "\tCohen's Kappa:  0.6432725135177209\n",
      "\tAccuracy:       0.927\n",
      "\n",
      "\tLabels    | ['<disfluency>' '<word>']\n",
      "\tPrecision | [0.72501552 0.95150912]\n",
      "\tRecall    | [0.6485286  0.96556281]\n",
      "\tF1 score  | [0.68464244 0.95848445]\n"
     ]
    }
   ],
   "source": [
    "evaluate_reliability([\"RtSwithRAA\"], ignore_tag=\"<CI>-<CE>-<FILLER>\", rating_filter=[3, 4, 5])"
   ]
  },
  {
   "cell_type": "code",
   "execution_count": 21,
   "metadata": {},
   "outputs": [
    {
     "name": "stdout",
     "output_type": "stream",
     "text": [
      "--- Analysis of Disfluency ---\n",
      "- Tasks ... WoZ_Interview, \n",
      "- Target rating ... [2, 3]\n",
      "- Sample size = 979\n",
      "\n",
      "- Metrics\n",
      "\tCohen's Kappa:  0.5966763725366623\n",
      "\tAccuracy:       0.931\n",
      "\n",
      "\tLabels    | ['<disfluency>' '<word>']\n",
      "\tPrecision | [0.66379664 0.95744247]\n",
      "\tRecall    | [0.60818933 0.9662343 ]\n",
      "\tF1 score  | [0.63477749 0.96181829]\n"
     ]
    }
   ],
   "source": [
    "evaluate_reliability([\"WoZ_Interview\"], ignore_tag=\"<CI>-<CE>-<FILLER>\", rating_filter=[2, 3])"
   ]
  },
  {
   "cell_type": "markdown",
   "metadata": {},
   "source": [
    "#### 3.1.4. Advanced"
   ]
  },
  {
   "cell_type": "code",
   "execution_count": 22,
   "metadata": {},
   "outputs": [
    {
     "name": "stdout",
     "output_type": "stream",
     "text": [
      "--- Analysis of Disfluency ---\n",
      "- Tasks ... Arg_Oly, \n",
      "- Target rating ... [6, 7, 8]\n",
      "- Sample size = 27\n",
      "\n",
      "- Metrics\n",
      "\tCohen's Kappa:  0.6535615832283974\n",
      "\tAccuracy:       0.957\n",
      "\n",
      "\tLabels    | ['<disfluency>' '<word>']\n",
      "\tPrecision | [0.68316832 0.97641073]\n",
      "\tRecall    | [0.66990291 0.97776748]\n",
      "\tF1 score  | [0.67647059 0.97708864]\n"
     ]
    }
   ],
   "source": [
    "evaluate_reliability([\"Arg_Oly\"], ignore_tag=\"<CI>-<CE>-<FILLER>\", rating_filter=[6, 7, 8])"
   ]
  },
  {
   "cell_type": "code",
   "execution_count": 23,
   "metadata": {},
   "outputs": [
    {
     "name": "stdout",
     "output_type": "stream",
     "text": [
      "--- Analysis of Disfluency ---\n",
      "- Tasks ... Cartoon, \n",
      "- Target rating ... [6, 7, 8]\n",
      "- Sample size = 32\n",
      "\n",
      "- Metrics\n",
      "\tCohen's Kappa:  0.6732940430665222\n",
      "\tAccuracy:       0.946\n",
      "\n",
      "\tLabels    | ['<disfluency>' '<word>']\n",
      "\tPrecision | [0.78108581 0.96035866]\n",
      "\tRecall    | [0.63896848 0.97993579]\n",
      "\tF1 score  | [0.70291568 0.97004846]\n"
     ]
    }
   ],
   "source": [
    "evaluate_reliability([\"Cartoon\"], ignore_tag=\"<CI>-<CE>-<FILLER>\", rating_filter=[6, 7, 8])"
   ]
  },
  {
   "cell_type": "code",
   "execution_count": 24,
   "metadata": {},
   "outputs": [
    {
     "name": "stdout",
     "output_type": "stream",
     "text": [
      "--- Analysis of Disfluency ---\n",
      "- Tasks ... RtSwithoutRAA, \n",
      "- Target rating ... [6, 7, 8]\n",
      "- Sample size = 29\n",
      "\n",
      "- Metrics\n",
      "\tCohen's Kappa:  0.6961276535353389\n",
      "\tAccuracy:       0.946\n",
      "\n",
      "\tLabels    | ['<disfluency>' '<word>']\n",
      "\tPrecision | [0.76960784 0.96433311]\n",
      "\tRecall    | [0.68658892 0.97631844]\n",
      "\tF1 score  | [0.7257319  0.97028877]\n"
     ]
    }
   ],
   "source": [
    "evaluate_reliability([\"RtSwithoutRAA\"], ignore_tag=\"<CI>-<CE>-<FILLER>\", rating_filter=[6, 7, 8])"
   ]
  },
  {
   "cell_type": "code",
   "execution_count": 25,
   "metadata": {},
   "outputs": [
    {
     "name": "stdout",
     "output_type": "stream",
     "text": [
      "--- Analysis of Disfluency ---\n",
      "- Tasks ... RtSwithRAA, "
     ]
    },
    {
     "name": "stdout",
     "output_type": "stream",
     "text": [
      "\n",
      "- Target rating ... [6, 7, 8]\n",
      "- Sample size = 29\n",
      "\n",
      "- Metrics\n",
      "\tCohen's Kappa:  0.6417581153861716\n",
      "\tAccuracy:       0.936\n",
      "\n",
      "\tLabels    | ['<disfluency>' '<word>']\n",
      "\tPrecision | [0.75694444 0.95317272]\n",
      "\tRecall    | [0.61235955 0.975686  ]\n",
      "\tF1 score  | [0.67701863 0.96429797]\n"
     ]
    }
   ],
   "source": [
    "evaluate_reliability([\"RtSwithRAA\"], ignore_tag=\"<CI>-<CE>-<FILLER>\", rating_filter=[6, 7, 8])"
   ]
  },
  {
   "cell_type": "code",
   "execution_count": 26,
   "metadata": {},
   "outputs": [
    {
     "name": "stdout",
     "output_type": "stream",
     "text": [
      "--- Analysis of Disfluency ---\n",
      "- Tasks ... WoZ_Interview, \n",
      "- Target rating ... [4, 5]\n",
      "- Sample size = 161\n",
      "\n",
      "- Metrics\n",
      "\tCohen's Kappa:  0.5577101806033509\n",
      "\tAccuracy:       0.959\n",
      "\n",
      "\tLabels    | ['<disfluency>' '<word>']\n",
      "\tPrecision | [0.55652174 0.98052851]\n",
      "\tRecall    | [0.60377358 0.97645429]\n",
      "\tF1 score  | [0.57918552 0.97848716]\n"
     ]
    }
   ],
   "source": [
    "evaluate_reliability([\"WoZ_Interview\"], ignore_tag=\"<CI>-<CE>-<FILLER>\", rating_filter=[4, 5])"
   ]
  },
  {
   "cell_type": "markdown",
   "metadata": {},
   "source": [
    "MEMO: CEFR fluency のスコアが上がるほど precision と kappa が低下している．"
   ]
  },
  {
   "cell_type": "markdown",
   "metadata": {},
   "source": [
    "### 3.2. Pause Location Classification\n",
    "\n",
    "#### 3.2.1. All Ratings"
   ]
  },
  {
   "cell_type": "code",
   "execution_count": 27,
   "metadata": {},
   "outputs": [
    {
     "name": "stdout",
     "output_type": "stream",
     "text": [
      "--- Analysis of Pause Location ---\n",
      "- Tasks ... Arg_Oly, Cartoon, RtSwithoutRAA, RtSwithRAA, WoZ_Interview, \n",
      "- Sample size = 2255\n",
      "\n",
      "- Metrics\n",
      "\tCohen's Kappa:  0.7073288940256932\n",
      "\tAccuracy:       0.880\n",
      "\n",
      "\tLabels    | ['<ci>' '<ce>' '<word>']\n",
      "\tPrecision | [0.67766532 0.69758577 0.95770632]\n",
      "\tRecall    | [0.83449728 0.65541567 0.90789796]\n",
      "\tF1 score  | [0.74794849 0.67584355 0.93213724]\n"
     ]
    }
   ],
   "source": [
    "evaluate_reliability(TASK, ignore_tag=\"<DISFLUENCY>-<FILLER>\")"
   ]
  },
  {
   "cell_type": "code",
   "execution_count": 28,
   "metadata": {},
   "outputs": [
    {
     "name": "stdout",
     "output_type": "stream",
     "text": [
      "--- Analysis of Pause Location ---\n",
      "- Tasks ... Arg_Oly, \n",
      "- Sample size = 128\n",
      "\n",
      "- Metrics\n",
      "\tCohen's Kappa:  0.7420368964297315\n",
      "\tAccuracy:       0.895\n",
      "\n",
      "\tLabels    | ['<ci>' '<ce>' '<word>']\n",
      "\tPrecision | [0.73166768 0.76323676 0.95410476]\n",
      "\tRecall    | [0.83728498 0.66900175 0.92611831]\n",
      "\tF1 score  | [0.78092141 0.71301913 0.93990325]\n"
     ]
    }
   ],
   "source": [
    "evaluate_reliability([\"Arg_Oly\"], ignore_tag=\"<DISFLUENCY>-<FILLER>\")"
   ]
  },
  {
   "cell_type": "code",
   "execution_count": 29,
   "metadata": {},
   "outputs": [
    {
     "name": "stdout",
     "output_type": "stream",
     "text": [
      "--- Analysis of Pause Location ---\n",
      "- Tasks ... Cartoon, "
     ]
    },
    {
     "name": "stdout",
     "output_type": "stream",
     "text": [
      "\n",
      "- Sample size = 128\n",
      "\n",
      "- Metrics\n",
      "\tCohen's Kappa:  0.7492145901987092\n",
      "\tAccuracy:       0.892\n",
      "\n",
      "\tLabels    | ['<ci>' '<ce>' '<word>']\n",
      "\tPrecision | [0.70514913 0.78563536 0.96335727]\n",
      "\tRecall    | [0.85483001 0.7163728  0.91768868]\n",
      "\tF1 score  | [0.77280859 0.74940711 0.9399686 ]\n"
     ]
    }
   ],
   "source": [
    "evaluate_reliability([\"Cartoon\"], ignore_tag=\"<DISFLUENCY>-<FILLER>\")"
   ]
  },
  {
   "cell_type": "code",
   "execution_count": 30,
   "metadata": {},
   "outputs": [
    {
     "name": "stdout",
     "output_type": "stream",
     "text": [
      "--- Analysis of Pause Location ---\n",
      "- Tasks ... RtSwithoutRAA, \n",
      "- Sample size = 128\n",
      "\n",
      "- Metrics\n",
      "\tCohen's Kappa:  0.7317320791341345\n",
      "\tAccuracy:       0.884\n",
      "\n",
      "\tLabels    | ['<ci>' '<ce>' '<word>']\n",
      "\tPrecision | [0.71046559 0.7467732  0.95532351]\n",
      "\tRecall    | [0.84843573 0.66212534 0.91226153]\n",
      "\tF1 score  | [0.77334515 0.70190641 0.93329607]\n"
     ]
    }
   ],
   "source": [
    "evaluate_reliability([\"RtSwithoutRAA\"], ignore_tag=\"<DISFLUENCY>-<FILLER>\")"
   ]
  },
  {
   "cell_type": "code",
   "execution_count": 31,
   "metadata": {},
   "outputs": [
    {
     "name": "stdout",
     "output_type": "stream",
     "text": [
      "--- Analysis of Pause Location ---\n",
      "- Tasks ... RtSwithRAA, \n",
      "- Sample size = 128\n",
      "\n",
      "- Metrics\n",
      "\tCohen's Kappa:  0.7316777341914804\n",
      "\tAccuracy:       0.883\n",
      "\n",
      "\tLabels    | ['<ci>' '<ce>' '<word>']\n",
      "\tPrecision | [0.71634231 0.73998729 0.95336911]\n",
      "\tRecall    | [0.84870499 0.63192182 0.91425319]\n",
      "\tF1 score  | [0.77692641 0.68169839 0.93340152]\n"
     ]
    }
   ],
   "source": [
    "evaluate_reliability([\"RtSwithRAA\"], ignore_tag=\"<DISFLUENCY>-<FILLER>\")"
   ]
  },
  {
   "cell_type": "code",
   "execution_count": 32,
   "metadata": {},
   "outputs": [
    {
     "name": "stdout",
     "output_type": "stream",
     "text": [
      "--- Analysis of Pause Location ---\n",
      "- Tasks ... WoZ_Interview, \n",
      "- Sample size = 1743\n",
      "\n",
      "- Metrics\n",
      "\tCohen's Kappa:  0.6263808866684425\n",
      "\tAccuracy:       0.863\n",
      "\n",
      "\tLabels    | ['<ci>' '<ce>' '<word>']\n",
      "\tPrecision | [0.58244526 0.55706727 0.95992839]\n",
      "\tRecall    | [0.79471249 0.61161826 0.88981086]\n",
      "\tF1 score  | [0.67222005 0.58306962 0.92354066]\n"
     ]
    }
   ],
   "source": [
    "evaluate_reliability([\"WoZ_Interview\"], ignore_tag=\"<DISFLUENCY>-<FILLER>\")"
   ]
  },
  {
   "cell_type": "markdown",
   "metadata": {},
   "source": [
    "#### 3.2.2. Beginners"
   ]
  },
  {
   "cell_type": "code",
   "execution_count": 33,
   "metadata": {},
   "outputs": [
    {
     "name": "stdout",
     "output_type": "stream",
     "text": [
      "--- Analysis of Pause Location ---\n",
      "- Tasks ... Arg_Oly, \n",
      "- Target rating ... [0, 1, 2]\n",
      "- Sample size = 35\n",
      "\n",
      "- Metrics\n",
      "\tCohen's Kappa:  0.7295661497803689\n",
      "\tAccuracy:       0.881\n",
      "\n",
      "\tLabels    | ['<ci>' '<ce>' '<word>']\n",
      "\tPrecision | [0.78332034 0.7281106  0.92470131]\n",
      "\tRecall    | [0.80015924 0.58955224 0.93090909]\n",
      "\tF1 score  | [0.79165026 0.65154639 0.92779481]\n"
     ]
    }
   ],
   "source": [
    "evaluate_reliability([\"Arg_Oly\"], ignore_tag=\"<DISFLUENCY>-<FILLER>\", rating_filter=[0, 1, 2])"
   ]
  },
  {
   "cell_type": "code",
   "execution_count": 34,
   "metadata": {},
   "outputs": [
    {
     "name": "stdout",
     "output_type": "stream",
     "text": [
      "--- Analysis of Pause Location ---\n",
      "- Tasks ... Cartoon, \n",
      "- Target rating ... [0, 1, 2]\n",
      "- Sample size = 18\n",
      "\n",
      "- Metrics\n",
      "\tCohen's Kappa:  0.7214208120105148\n",
      "\tAccuracy:       0.870\n",
      "\n",
      "\tLabels    | ['<ci>' '<ce>' '<word>']\n",
      "\tPrecision | [0.76913876 0.75647668 0.91763653]\n",
      "\tRecall    | [0.79187192 0.62931034 0.92383957]\n",
      "\tF1 score  | [0.78033981 0.68705882 0.9207276 ]\n"
     ]
    }
   ],
   "source": [
    "evaluate_reliability([\"Cartoon\"], ignore_tag=\"<DISFLUENCY>-<FILLER>\", rating_filter=[0, 1, 2])"
   ]
  },
  {
   "cell_type": "code",
   "execution_count": 35,
   "metadata": {},
   "outputs": [
    {
     "name": "stdout",
     "output_type": "stream",
     "text": [
      "--- Analysis of Pause Location ---\n",
      "- Tasks ... RtSwithoutRAA, \n",
      "- Target rating ... [0, 1, 2]\n",
      "- Sample size = 31\n",
      "\n",
      "- Metrics\n",
      "\tCohen's Kappa:  0.7331648133631077\n",
      "\tAccuracy:       0.876\n",
      "\n",
      "\tLabels    | ['<ci>' '<ce>' '<word>']\n",
      "\tPrecision | [0.74611399 0.68518519 0.94611693]\n",
      "\tRecall    | [0.84705882 0.64427861 0.90542797]\n",
      "\tF1 score  | [0.79338843 0.66410256 0.92532537]\n"
     ]
    }
   ],
   "source": [
    "evaluate_reliability([\"RtSwithoutRAA\"], ignore_tag=\"<DISFLUENCY>-<FILLER>\", rating_filter=[0, 1, 2])"
   ]
  },
  {
   "cell_type": "code",
   "execution_count": 36,
   "metadata": {},
   "outputs": [
    {
     "name": "stdout",
     "output_type": "stream",
     "text": [
      "--- Analysis of Pause Location ---\n",
      "- Tasks ... RtSwithRAA, \n",
      "- Target rating ... [0, 1, 2]\n",
      "- Sample size = 18\n",
      "\n",
      "- Metrics\n",
      "\tCohen's Kappa:  0.7473395340342042\n",
      "\tAccuracy:       0.880\n",
      "\n",
      "\tLabels    | ['<ci>' '<ce>' '<word>']\n",
      "\tPrecision | [0.77601586 0.72619048 0.93736312]\n",
      "\tRecall    | [0.85667396 0.57819905 0.91648822]\n",
      "\tF1 score  | [0.81435257 0.64379947 0.92680814]\n"
     ]
    }
   ],
   "source": [
    "evaluate_reliability([\"RtSwithRAA\"], ignore_tag=\"<DISFLUENCY>-<FILLER>\", rating_filter=[0, 1, 2])"
   ]
  },
  {
   "cell_type": "code",
   "execution_count": 37,
   "metadata": {},
   "outputs": [
    {
     "name": "stdout",
     "output_type": "stream",
     "text": [
      "--- Analysis of Pause Location ---\n",
      "- Tasks ... WoZ_Interview, \n",
      "- Target rating ... [0, 1]\n",
      "- Sample size = 603\n",
      "\n",
      "- Metrics\n",
      "\tCohen's Kappa:  0.6105006084868569\n",
      "\tAccuracy:       0.848\n",
      "\n",
      "\tLabels    | ['<ci>' '<ce>' '<word>']\n",
      "\tPrecision | [0.65490575 0.55530474 0.9194467 ]\n",
      "\tRecall    | [0.71165966 0.52229299 0.90267608]\n",
      "\tF1 score  | [0.6821042  0.53829322 0.91098421]\n"
     ]
    }
   ],
   "source": [
    "evaluate_reliability([\"WoZ_Interview\"], ignore_tag=\"<DISFLUENCY>-<FILLER>\", rating_filter=[0, 1])"
   ]
  },
  {
   "cell_type": "markdown",
   "metadata": {},
   "source": [
    "#### 3.2.3. Intermediate"
   ]
  },
  {
   "cell_type": "code",
   "execution_count": 38,
   "metadata": {},
   "outputs": [
    {
     "name": "stdout",
     "output_type": "stream",
     "text": [
      "--- Analysis of Pause Location ---\n",
      "- Tasks ... Arg_Oly, \n",
      "- Target rating ... [3, 4, 5]\n",
      "- Sample size = 66\n",
      "\n",
      "- Metrics\n",
      "\tCohen's Kappa:  0.7470058316463517\n",
      "\tAccuracy:       0.894\n",
      "\n",
      "\tLabels    | ['<ci>' '<ce>' '<word>']\n",
      "\tPrecision | [0.73298033 0.7752809  0.95550263]\n",
      "\tRecall    | [0.85449735 0.68092105 0.92065217]\n",
      "\tF1 score  | [0.78908795 0.72504378 0.93775372]\n"
     ]
    }
   ],
   "source": [
    "evaluate_reliability([\"Arg_Oly\"], ignore_tag=\"<DISFLUENCY>-<FILLER>\", rating_filter=[3, 4, 5])"
   ]
  },
  {
   "cell_type": "code",
   "execution_count": 39,
   "metadata": {},
   "outputs": [
    {
     "name": "stdout",
     "output_type": "stream",
     "text": [
      "--- Analysis of Pause Location ---\n",
      "- Tasks ... Cartoon, \n",
      "- Target rating ... [3, 4, 5]\n",
      "- Sample size = 78\n",
      "\n",
      "- Metrics\n",
      "\tCohen's Kappa:  0.7522469718587835\n",
      "\tAccuracy:       0.888\n",
      "\n",
      "\tLabels    | ['<ci>' '<ce>' '<word>']\n",
      "\tPrecision | [0.71051444 0.79248826 0.96419743]\n",
      "\tRecall    | [0.86940917 0.71163575 0.91070853]\n",
      "\tF1 score  | [0.78197169 0.74988894 0.93668999]\n"
     ]
    }
   ],
   "source": [
    "evaluate_reliability([\"Cartoon\"], ignore_tag=\"<DISFLUENCY>-<FILLER>\", rating_filter=[3, 4, 5])"
   ]
  },
  {
   "cell_type": "code",
   "execution_count": 40,
   "metadata": {},
   "outputs": [
    {
     "name": "stdout",
     "output_type": "stream",
     "text": [
      "--- Analysis of Pause Location ---\n",
      "- Tasks ... RtSwithoutRAA, "
     ]
    },
    {
     "name": "stdout",
     "output_type": "stream",
     "text": [
      "\n",
      "- Target rating ... [3, 4, 5]\n",
      "- Sample size = 68\n",
      "\n",
      "- Metrics\n",
      "\tCohen's Kappa:  0.7297208501433563\n",
      "\tAccuracy:       0.882\n",
      "\n",
      "\tLabels    | ['<ci>' '<ce>' '<word>']\n",
      "\tPrecision | [0.70403226 0.75772559 0.95544841]\n",
      "\tRecall    | [0.85560274 0.64188482 0.91041073]\n",
      "\tF1 score  | [0.77245244 0.69501134 0.93238602]\n"
     ]
    }
   ],
   "source": [
    "evaluate_reliability([\"RtSwithoutRAA\"], ignore_tag=\"<DISFLUENCY>-<FILLER>\", rating_filter=[3, 4, 5])"
   ]
  },
  {
   "cell_type": "code",
   "execution_count": 41,
   "metadata": {},
   "outputs": [
    {
     "name": "stdout",
     "output_type": "stream",
     "text": [
      "--- Analysis of Pause Location ---\n",
      "- Tasks ... RtSwithRAA, \n",
      "- Target rating ... [3, 4, 5]\n",
      "- Sample size = 81\n",
      "\n",
      "- Metrics\n",
      "\tCohen's Kappa:  0.7355249255130409\n",
      "\tAccuracy:       0.883\n",
      "\n",
      "\tLabels    | ['<ci>' '<ce>' '<word>']\n",
      "\tPrecision | [0.71997472 0.74527363 0.95403986]\n",
      "\tRecall    | [0.85403649 0.64904679 0.9120514 ]\n",
      "\tF1 score  | [0.78129644 0.69383974 0.93257324]\n"
     ]
    }
   ],
   "source": [
    "evaluate_reliability([\"RtSwithRAA\"], ignore_tag=\"<DISFLUENCY>-<FILLER>\", rating_filter=[3, 4, 5])"
   ]
  },
  {
   "cell_type": "code",
   "execution_count": 42,
   "metadata": {},
   "outputs": [
    {
     "name": "stdout",
     "output_type": "stream",
     "text": [
      "--- Analysis of Pause Location ---\n",
      "- Tasks ... WoZ_Interview, "
     ]
    },
    {
     "name": "stdout",
     "output_type": "stream",
     "text": [
      "\n",
      "- Target rating ... [2, 3]\n",
      "- Sample size = 979\n",
      "\n",
      "- Metrics\n",
      "\tCohen's Kappa:  0.6350759068690512\n",
      "\tAccuracy:       0.862\n",
      "\n",
      "\tLabels    | ['<ci>' '<ce>' '<word>']\n",
      "\tPrecision | [0.57604671 0.58246001 0.96540322]\n",
      "\tRecall    | [0.82366117 0.6289458  0.88342537]\n",
      "\tF1 score  | [0.6779519  0.604811   0.92259683]\n"
     ]
    }
   ],
   "source": [
    "evaluate_reliability([\"WoZ_Interview\"], ignore_tag=\"<DISFLUENCY>-<FILLER>\", rating_filter=[2, 3])"
   ]
  },
  {
   "cell_type": "markdown",
   "metadata": {},
   "source": [
    "#### 3.2.4. Advanced"
   ]
  },
  {
   "cell_type": "code",
   "execution_count": 43,
   "metadata": {},
   "outputs": [
    {
     "name": "stdout",
     "output_type": "stream",
     "text": [
      "--- Analysis of Pause Location ---\n",
      "- Tasks ... Arg_Oly, \n",
      "- Target rating ... [6, 7, 8]\n",
      "- Sample size = 27\n",
      "\n",
      "- Metrics\n",
      "\tCohen's Kappa:  0.7384761982939918\n",
      "\tAccuracy:       0.910\n",
      "\n",
      "\tLabels    | ['<ci>' '<ce>' '<word>']\n",
      "\tPrecision | [0.66164659 0.768      0.97608544]\n",
      "\tRecall    | [0.8470437  0.72180451 0.93235751]\n",
      "\tF1 score  | [0.74295378 0.74418605 0.95372051]\n"
     ]
    }
   ],
   "source": [
    "evaluate_reliability([\"Arg_Oly\"], ignore_tag=\"<DISFLUENCY>-<FILLER>\", rating_filter=[6, 7, 8])"
   ]
  },
  {
   "cell_type": "code",
   "execution_count": 44,
   "metadata": {},
   "outputs": [
    {
     "name": "stdout",
     "output_type": "stream",
     "text": [
      "--- Analysis of Pause Location ---\n",
      "- Tasks ... Cartoon, \n",
      "- Target rating ... [6, 7, 8]\n",
      "- Sample size = 32\n",
      "\n",
      "- Metrics\n",
      "\tCohen's Kappa:  0.7494946005242763\n",
      "\tAccuracy:       0.907\n",
      "\n",
      "\tLabels    | ['<ci>' '<ce>' '<word>']\n",
      "\tPrecision | [0.65261727 0.7826087  0.97817014]\n",
      "\tRecall    | [0.85333333 0.76190476 0.92882183]\n",
      "\tF1 score  | [0.73959938 0.77211796 0.95285748]\n"
     ]
    }
   ],
   "source": [
    "evaluate_reliability([\"Cartoon\"], ignore_tag=\"<DISFLUENCY>-<FILLER>\", rating_filter=[6, 7, 8])"
   ]
  },
  {
   "cell_type": "code",
   "execution_count": 45,
   "metadata": {},
   "outputs": [
    {
     "name": "stdout",
     "output_type": "stream",
     "text": [
      "--- Analysis of Pause Location ---\n",
      "- Tasks ... RtSwithoutRAA, \n",
      "- Target rating ... [6, 7, 8]\n",
      "- Sample size = 29\n",
      "\n",
      "- Metrics\n",
      "\tCohen's Kappa:  0.7310813020374732\n",
      "\tAccuracy:       0.894\n",
      "\n",
      "\tLabels    | ['<ci>' '<ce>' '<word>']\n",
      "\tPrecision | [0.68433314 0.77954545 0.96211995]\n",
      "\tRecall    | [0.83451705 0.71757322 0.92066773]\n",
      "\tF1 score  | [0.752      0.74727669 0.94093753]\n"
     ]
    }
   ],
   "source": [
    "evaluate_reliability([\"RtSwithoutRAA\"], ignore_tag=\"<DISFLUENCY>-<FILLER>\", rating_filter=[6, 7, 8])"
   ]
  },
  {
   "cell_type": "code",
   "execution_count": 46,
   "metadata": {},
   "outputs": [
    {
     "name": "stdout",
     "output_type": "stream",
     "text": [
      "--- Analysis of Pause Location ---\n",
      "- Tasks ... RtSwithRAA, \n",
      "- Target rating ... [6, 7, 8]\n",
      "- Sample size = 29\n",
      "\n",
      "- Metrics\n",
      "\tCohen's Kappa:  0.7109775808808132\n",
      "\tAccuracy:       0.884\n",
      "\n",
      "\tLabels    | ['<ci>' '<ce>' '<word>']\n",
      "\tPrecision | [0.67200916 0.7325     0.95814751]\n",
      "\tRecall    | [0.82851094 0.61425577 0.91829689]\n",
      "\tF1 score  | [0.74209861 0.668187   0.93779904]\n"
     ]
    }
   ],
   "source": [
    "evaluate_reliability([\"RtSwithRAA\"], ignore_tag=\"<DISFLUENCY>-<FILLER>\", rating_filter=[6, 7, 8])"
   ]
  },
  {
   "cell_type": "code",
   "execution_count": 47,
   "metadata": {},
   "outputs": [
    {
     "name": "stdout",
     "output_type": "stream",
     "text": [
      "--- Analysis of Pause Location ---\n",
      "- Tasks ... WoZ_Interview, "
     ]
    },
    {
     "name": "stdout",
     "output_type": "stream",
     "text": [
      "\n",
      "- Target rating ... [4, 5]\n",
      "- Sample size = 161\n",
      "\n",
      "- Metrics\n",
      "\tCohen's Kappa:  0.5964792972793034\n",
      "\tAccuracy:       0.885\n",
      "\n",
      "\tLabels    | ['<ci>' '<ce>' '<word>']\n",
      "\tPrecision | [0.49715678 0.44102564 0.9858145 ]\n",
      "\tRecall    | [0.816      0.66153846 0.9000854 ]\n",
      "\tF1 score  | [0.61786976 0.52923077 0.94100141]\n"
     ]
    }
   ],
   "source": [
    "evaluate_reliability([\"WoZ_Interview\"], ignore_tag=\"<DISFLUENCY>-<FILLER>\", rating_filter=[4, 5])"
   ]
  },
  {
   "cell_type": "code",
   "execution_count": null,
   "metadata": {},
   "outputs": [],
   "source": []
  }
 ],
 "metadata": {
  "kernelspec": {
   "display_name": "teai-incremental-classifier",
   "language": "python",
   "name": "python3"
  },
  "language_info": {
   "codemirror_mode": {
    "name": "ipython",
    "version": 3
   },
   "file_extension": ".py",
   "mimetype": "text/x-python",
   "name": "python",
   "nbconvert_exporter": "python",
   "pygments_lexer": "ipython3",
   "version": "3.9.6"
  }
 },
 "nbformat": 4,
 "nbformat_minor": 2
}
