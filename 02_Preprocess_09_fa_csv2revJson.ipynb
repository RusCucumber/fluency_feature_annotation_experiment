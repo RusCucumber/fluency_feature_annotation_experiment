{
 "cells": [
  {
   "cell_type": "markdown",
   "metadata": {},
   "source": [
    "5/11 (Sat) | Annotation\n",
    "\n",
    "# Conversion from Forced Alignment CSV to Rev Transcript Json"
   ]
  },
  {
   "cell_type": "markdown",
   "metadata": {},
   "source": [
    "## 1. Introduction\n",
    "\n",
    "This notebook converts forced alignment (FA) csv to rev transcript json.\n",
    "Before starting the conversion, the following code block loads required packages and defines global variables."
   ]
  },
  {
   "cell_type": "code",
   "execution_count": 1,
   "metadata": {},
   "outputs": [],
   "source": [
    "import json\n",
    "from typing import List, Dict, Generator\n",
    "from pathlib import Path\n",
    "\n",
    "import pandas as pd\n",
    "\n",
    "DATA_DIR = Path(\"/home/matsuura/Development/app/feature_extraction_api/experiment/data\")\n",
    "\n",
    "TASK = [\"Arg_Oly\", \"Cartoon\", \"RtSwithoutRAA\", \"RtSwithRAA\", \"WoZ_Interview\"]"
   ]
  },
  {
   "cell_type": "markdown",
   "metadata": {},
   "source": [
    "---\n",
    "\n",
    "## 2. Define Functions\n",
    "\n",
    "This section defines functions for the csv to json format.\n",
    "The following code block defines a generator to yield FA csv path"
   ]
  },
  {
   "cell_type": "code",
   "execution_count": 2,
   "metadata": {},
   "outputs": [],
   "source": [
    "def csv_path_generator(task: str) -> Generator[Path, None, None]:\n",
    "    load_dir = DATA_DIR / f\"{task}/04_FA_csv_Auto\"\n",
    "\n",
    "    for csv_path in load_dir.glob(\"*_filled.csv\"):\n",
    "        yield csv_path"
   ]
  },
  {
   "cell_type": "markdown",
   "metadata": {},
   "source": [
    "The following code block defines functions to generate rev transcript elements"
   ]
  },
  {
   "cell_type": "code",
   "execution_count": 3,
   "metadata": {},
   "outputs": [],
   "source": [
    "def generate_word_block(word: str, start_time: float, end_time: float) -> List[dict]:\n",
    "    word_block_list = []\n",
    "    \n",
    "    if not isinstance(word, str):\n",
    "        word = str(word)\n",
    "\n",
    "    words = word.split(\" \")\n",
    "    if len(words) == 1:\n",
    "        word = {\n",
    "            \"type\": \"text\",\n",
    "            \"value\": word,\n",
    "            \"ts\": start_time,\n",
    "            \"end_ts\": end_time,\n",
    "            \"confidence\": 1.0\n",
    "        }\n",
    "        word_block_list.append(word)\n",
    "        return word_block_list\n",
    "    \n",
    "    delta = (end_time - start_time) / len(words)\n",
    "    for t, w in enumerate(words):\n",
    "        word = {\n",
    "            \"type\": \"text\",\n",
    "            \"value\": w,\n",
    "            \"ts\": start_time + (delta * t),\n",
    "            \"end_ts\": start_time + (delta * (t + 1)),\n",
    "            \"confidence\": 1.0\n",
    "        }\n",
    "        word_block_list.append(word)\n",
    "        punct = {\n",
    "            \"type\": \"punct\",\n",
    "            \"value\": \" \"\n",
    "        }\n",
    "        word_block_list.append(punct)\n",
    "\n",
    "    return word_block_list[:-1]\n",
    "\n",
    "def generate_rev_element(df_fa: pd.DataFrame) -> List[Dict[str, str]]:\n",
    "    element = []\n",
    "    for idx in df_fa.index:\n",
    "        word = df_fa.at[idx, \"word\"]\n",
    "\n",
    "        if word == \"\":\n",
    "            continue\n",
    "\n",
    "        start_time = df_fa.at[idx, \"start_time\"]\n",
    "        end_time = df_fa.at[idx, \"end_time\"]\n",
    "\n",
    "        word_block_list = generate_word_block(word, start_time, end_time)\n",
    "        element += word_block_list\n",
    "        punct = {\n",
    "            \"type\": \"punct\",\n",
    "            \"value\": \" \"\n",
    "        }\n",
    "        element.append(punct)\n",
    "\n",
    "    element[-1][\"value\"] = \".\"\n",
    "\n",
    "    return element"
   ]
  },
  {
   "cell_type": "markdown",
   "metadata": {},
   "source": [
    "The following code block defines a function to save a rev transcript json file."
   ]
  },
  {
   "cell_type": "code",
   "execution_count": 4,
   "metadata": {},
   "outputs": [],
   "source": [
    "def save_rev_json(element: List[Dict[str, str]], csv_path: Path, task: str):\n",
    "    filename = csv_path.stem.removesuffix(\"_filled\")\n",
    "    json_path = DATA_DIR / f\"{task}/07_Rev_Json/{filename}.json\"\n",
    "\n",
    "    rev_json = {\n",
    "        \"monologues\": [\n",
    "            {\n",
    "                \"speaker\": 0,\n",
    "                \"elements\": element\n",
    "            }\n",
    "        ]\n",
    "    }\n",
    "\n",
    "    with open(json_path, \"w\") as f:\n",
    "        json.dump(rev_json, f, indent=4)"
   ]
  },
  {
   "cell_type": "markdown",
   "metadata": {},
   "source": [
    "---\n",
    "\n",
    "## 3. Conversion of FA csv to Rev Json\n",
    "\n",
    "This section converts FA csv files to Rev json."
   ]
  },
  {
   "cell_type": "code",
   "execution_count": 5,
   "metadata": {},
   "outputs": [],
   "source": [
    "for task in TASK:\n",
    "    for csv_path in csv_path_generator(task):\n",
    "        df_fa = pd.read_csv(csv_path)\n",
    "\n",
    "        element = generate_rev_element(df_fa)\n",
    "        save_rev_json(element, csv_path, task)"
   ]
  },
  {
   "cell_type": "code",
   "execution_count": null,
   "metadata": {},
   "outputs": [],
   "source": []
  }
 ],
 "metadata": {
  "kernelspec": {
   "display_name": "teai-incremental-classifier",
   "language": "python",
   "name": "python3"
  },
  "language_info": {
   "codemirror_mode": {
    "name": "ipython",
    "version": 3
   },
   "file_extension": ".py",
   "mimetype": "text/x-python",
   "name": "python",
   "nbconvert_exporter": "python",
   "pygments_lexer": "ipython3",
   "version": "3.9.6"
  }
 },
 "nbformat": 4,
 "nbformat_minor": 2
}
