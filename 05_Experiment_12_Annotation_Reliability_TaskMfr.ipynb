{
 "cells": [
  {
   "cell_type": "markdown",
   "metadata": {},
   "source": [
    "5/14 (Tue) | Experiment\n",
    "\n",
    "# Evaluation of Reliability of Automatic Annotation"
   ]
  },
  {
   "cell_type": "markdown",
   "metadata": {},
   "source": [
    "## 1. Introduction\n",
    "\n",
    "This notebook evalutate the reliability of the proposed automatic temporal feature annotation system.\n",
    "More specifically, I evaluate the system in terms of the following metrics.\n",
    "\n",
    "- Cohen's kappa\n",
    "- Accuracy score\n",
    "- Precision\n",
    "- Recall\n",
    "- F1 Score\n",
    "\n",
    "Before starting the evaluation, the following code block loads required packages and defines global variables."
   ]
  },
  {
   "cell_type": "code",
   "execution_count": 1,
   "metadata": {},
   "outputs": [],
   "source": [
    "from typing import List, Tuple, Generator, Optional\n",
    "from pathlib import Path\n",
    "\n",
    "import numpy as np\n",
    "import pandas as pd\n",
    "from sklearn.metrics import accuracy_score, precision_recall_fscore_support\n",
    "\n",
    "from utils.mfr import logit_2_rating\n",
    "from utils.cohen_kappa import RCohenKappa\n",
    "r_cohen_kappa = RCohenKappa(debug=False)\n",
    "\n",
    "DATA_DIR = Path(\"/home/matsuura/Development/app/feature_extraction_api/experiment/data\")\n",
    "\n",
    "TASK = [\"Arg_Oly\", \"Cartoon\", \"RtSwithoutRAA\", \"RtSwithRAA\", \"WoZ_Interview\"]"
   ]
  },
  {
   "cell_type": "markdown",
   "metadata": {},
   "source": [
    "---\n",
    "\n",
    "## 2. Define Functions\n",
    "\n",
    "This section defines functions for the analyses.\n",
    "The following code block defines "
   ]
  },
  {
   "cell_type": "code",
   "execution_count": 2,
   "metadata": {},
   "outputs": [],
   "source": [
    "def label_generator(\n",
    "        task: str,\n",
    "        ignore_tag: str, \n",
    "        tags: Tuple[str] =(\"<disfluency>\", \"<ci>\", \"<ce>\", \"<filler>\"), \n",
    "        word: str =\"<word>\",\n",
    "        rating_filter: Optional[List[int]] =None,\n",
    "        bert: bool =False\n",
    ") -> Generator[Tuple[list, list], None, None]:\n",
    "    load_dir = DATA_DIR / f\"{task}/11_SCTK_Outputs\"\n",
    "\n",
    "    pf_path = DATA_DIR / f\"{task}/12_PF_Rating/pf_rating.csv\"\n",
    "    df_pf = pd.read_csv(pf_path)\n",
    "    uid_list = df_pf[\"uid\"].to_numpy()\n",
    "\n",
    "    if rating_filter is not None:\n",
    "        logit_path = pf_path.parent / \"logit_all.csv\"\n",
    "        threshold_path = logit_path.parent / \"threshold_all.csv\"\n",
    "        \n",
    "        df_logit = pd.read_csv(logit_path, index_col=0)\n",
    "        rating_list = logit_2_rating(df_logit[\"theta\"], threshold_path)\n",
    "\n",
    "        mask = np.full(rating_list.shape, False, dtype=bool)\n",
    "        for rating in rating_filter:\n",
    "            mask = mask | (rating_list == rating)\n",
    "        \n",
    "        uid_list = uid_list[mask]\n",
    "\n",
    "    for uid in uid_list:\n",
    "        if task == \"WoZ_Interview\":\n",
    "            uid = str(int(uid)).zfill(3)\n",
    "\n",
    "        if task == \"RtSwithoutRAA\":\n",
    "            if uid == \"2055_RtSwithoutRAA\":\n",
    "                continue\n",
    "\n",
    "        filename_pattern = f\"{uid}*_ignore_{ignore_tag}.txt\"\n",
    "        if bert:\n",
    "            filename_pattern = f\"{uid}*_ignore_{ignore_tag}_bert.txt\"\n",
    "        for filename in load_dir.glob(filename_pattern):\n",
    "            with open(filename, \"r\") as f:\n",
    "                true = []\n",
    "                pred = []\n",
    "                flag = 0\n",
    "\n",
    "                for line in f.readlines():\n",
    "                    if line[0] == \"<\":\n",
    "                        continue\n",
    "\n",
    "                    line = line.replace(\"\\n\", \"\")\n",
    "\n",
    "                    if len(line) == 1 and line.isupper():\n",
    "                        flag += 1\n",
    "                        continue\n",
    "\n",
    "                    line = line.replace(\"\\\"\", \"\")\n",
    "                    if not(line in tags):\n",
    "                        line = word\n",
    "\n",
    "                    if flag == 1:\n",
    "                        true.append(line)\n",
    "                        flag += 1\n",
    "                    elif flag == 2:\n",
    "                        pred.append(line)\n",
    "                        flag = 0\n",
    "\n",
    "            yield true, pred"
   ]
  },
  {
   "cell_type": "markdown",
   "metadata": {},
   "source": [
    "The following code block defines a function to convert labels to ids."
   ]
  },
  {
   "cell_type": "code",
   "execution_count": 3,
   "metadata": {},
   "outputs": [],
   "source": [
    "def tag_2_id(\n",
    "        tag_list: List[str], \n",
    "        tags: List[str] =[\"<disfluency>\", \"<ci>\", \"<ce>\", \"<filler>\", \"<word>\"]\n",
    ") -> List[str]:\n",
    "    tag_id_list = []\n",
    "    for tag in tag_list:\n",
    "        i = tags.index(tag)\n",
    "        tag_id_list.append(i)\n",
    "\n",
    "    return tag_id_list"
   ]
  },
  {
   "cell_type": "markdown",
   "metadata": {},
   "source": [
    "The following code block defines a function to calculate Cronbach's Alpha."
   ]
  },
  {
   "cell_type": "code",
   "execution_count": 4,
   "metadata": {},
   "outputs": [],
   "source": [
    "def cronbach_alpha(true: List[int], pred: List[int]):\n",
    "    mtx = np.array([true, pred])\n",
    "    var_by_items = np.var(mtx, axis=0)\n",
    "    sum_var_by_items = np.sum(var_by_items)\n",
    "\n",
    "    items_sum = np.sum(mtx, axis=1)\n",
    "    var_items_sum = np.var(items_sum)\n",
    "\n",
    "    n_items = len(true)\n",
    "\n",
    "    alpha = n_items / (n_items - 1) * (1 - sum_var_by_items / var_items_sum)\n",
    "\n",
    "    return alpha"
   ]
  },
  {
   "cell_type": "markdown",
   "metadata": {},
   "source": [
    "The following code block defines a function to calculate reliability metrics."
   ]
  },
  {
   "cell_type": "code",
   "execution_count": 5,
   "metadata": {},
   "outputs": [],
   "source": [
    "def evaluate_reliability(\n",
    "        task_list: List[str], \n",
    "        ignore_tag: str,\n",
    "        rating_filter: Optional[List[int]] =None\n",
    ") -> Tuple[pd.DataFrame, pd.DataFrame]:\n",
    "    all_true = []\n",
    "    all_pred = []\n",
    "\n",
    "    if ignore_tag == \"<CI>-<CE>-<FILLER>\":\n",
    "        tags = [\"<disfluency>\", \"<word>\"]\n",
    "        print(f\"--- Analysis of Disfluency ---\")\n",
    "\n",
    "    elif ignore_tag == \"<CI>-<CE>\":\n",
    "        tags = [\"<disfluency>\", \"<filler>\", \"<word>\"]\n",
    "        print(f\"--- Analysis of Disfluency & Filler ---\")\n",
    "\n",
    "    elif ignore_tag == \"<DISFLUENCY>-<FILLER>\":\n",
    "        tags = [\"<ci>\", \"<ce>\", \"<word>\"]\n",
    "        print(f\"--- Analysis of Pause Location ---\")\n",
    "\n",
    "    print(\"- Tasks ... \", end=\"\")\n",
    "\n",
    "    sample_size = 0\n",
    "    n_data = 0\n",
    "    for task in task_list:\n",
    "        print(f\"{task}, \", end=\"\")\n",
    "        for true, pred in label_generator(task, ignore_tag, rating_filter=rating_filter):\n",
    "            true = tag_2_id(true, tags=tags)\n",
    "            pred = tag_2_id(pred, tags=tags)\n",
    "\n",
    "            all_true += true\n",
    "            all_pred += pred\n",
    "            sample_size += len(true)\n",
    "            n_data += 1\n",
    "\n",
    "    if rating_filter is not None:\n",
    "        print(f\"\\n- Target rating ... {rating_filter}\")\n",
    "    else:\n",
    "        print()\n",
    "    print(f\"- Sample size = {sample_size}\")\n",
    "    print(f\"- Data size   = {n_data}\")\n",
    "\n",
    "    acc = accuracy_score(all_true, all_pred)\n",
    "    p, r, f, _ = precision_recall_fscore_support(all_true, all_pred)\n",
    "    # a = cronbach_alpha(all_true, all_pred)\n",
    "    kappa, _, lower, upper = r_cohen_kappa.cohen_kappa(all_true, all_pred)\n",
    "\n",
    "    print(f\"\\n- Metrics\")\n",
    "    # print(f\"\\tCronbach Alpha: {a}\")\n",
    "    print(f\"\\tCohen's Kappa:  {kappa:.03f} (|{lower:.03f} - {upper:.03f}|)\")\n",
    "    print(f\"\\tAccuracy:       {acc:.03f}\\n\")\n",
    "\n",
    "    print(f\"\\tLabels    | {np.array(tags)}\")\n",
    "    print(f\"\\tPrecision | {p}\") \n",
    "    print(f\"\\tRecall    | {r}\")\n",
    "    print(f\"\\tF1 score  | {f}\")\n",
    "\n",
    "    data_kappa = [[f\"{n_data:,}\", f\"{sample_size:,}\", f\"{kappa:.03f}\",f\"[{lower:.03f}, {upper:.03f}]\"]]\n",
    "    df_kappa = pd.DataFrame(data_kappa, columns=[\"N_data\", \"Sample size\", \"Kappa\", \"95% CI\"])\n",
    "    if \"<CI>-<CE>\" in ignore_tag:\n",
    "        data_cfmx = [[f\"{p[0]:.03f}\", f\"{r[0]:.03f}\", f\"{f[0]:.03f}\"]]\n",
    "        df_cfmx = pd.DataFrame(data_cfmx, columns=[\"P_disfl\", \"R_disfl\", \"F1_disfl\"])\n",
    "    else:\n",
    "        data_cfmx = [[f\"{p[0]:.03f}\", f\"{r[0]:.03f}\", f\"{f[0]:.03f}\", f\"{p[1]:.03f}\", f\"{r[1]:.03f}\", f\"{f[1]:.03f}\"]]\n",
    "        df_cfmx = pd.DataFrame(data_cfmx, columns=[\"P_mcp\", \"R_mcp\", \"F1_mcp\", \"P_ecp\", \"R_ecp\", \"F1_ecp\"])\n",
    "    \n",
    "    if rating_filter is None:\n",
    "        idx_name = f\"{task}_00All\"\n",
    "    elif rating_filter == [0, 1, 2] or rating_filter == [0, 1]:\n",
    "        idx_name = f\"{task}_01Low\"\n",
    "    elif rating_filter == [3, 4, 5] or rating_filter == [2, 3]:\n",
    "        idx_name = f\"{task}_02Mid\"\n",
    "    else:\n",
    "        idx_name = f\"{task}_03High\"\n",
    "    \n",
    "    df_kappa.index = [idx_name]\n",
    "    df_cfmx.index = [idx_name]\n",
    "\n",
    "    return df_kappa, df_cfmx"
   ]
  },
  {
   "cell_type": "markdown",
   "metadata": {},
   "source": [
    "---\n",
    "\n",
    "## 3. Reliability Analyses\n",
    "\n",
    "This section conducts reliability analyses."
   ]
  },
  {
   "cell_type": "markdown",
   "metadata": {},
   "source": [
    "### 3.1. Disfluency Detection"
   ]
  },
  {
   "cell_type": "code",
   "execution_count": 6,
   "metadata": {},
   "outputs": [],
   "source": [
    "df_kappa_disfl_list = []\n",
    "df_cfmx_disfl_list = []"
   ]
  },
  {
   "cell_type": "markdown",
   "metadata": {},
   "source": [
    "#### 3.1.1. All Ratings"
   ]
  },
  {
   "cell_type": "code",
   "execution_count": 7,
   "metadata": {},
   "outputs": [
    {
     "name": "stdout",
     "output_type": "stream",
     "text": [
      "--- Analysis of Disfluency ---\n",
      "- Tasks ... Arg_Oly, Cartoon, RtSwithoutRAA, RtSwithRAA, WoZ_Interview, \n",
      "- Sample size = 129506\n",
      "- Data size   = 2254\n",
      "\n",
      "- Metrics\n",
      "\tCohen's Kappa:  0.658 (|0.652 - 0.665|)\n",
      "\tAccuracy:       0.935\n",
      "\n",
      "\tLabels    | ['<disfluency>' '<word>']\n",
      "\tPrecision | [0.73551735 0.95758787]\n",
      "\tRecall    | [0.6575959  0.97032086]\n",
      "\tF1 score  | [0.69437742 0.96391232]\n"
     ]
    }
   ],
   "source": [
    "_, _ = evaluate_reliability(TASK, ignore_tag=\"<CI>-<CE>-<FILLER>\")"
   ]
  },
  {
   "cell_type": "code",
   "execution_count": 8,
   "metadata": {},
   "outputs": [
    {
     "name": "stdout",
     "output_type": "stream",
     "text": [
      "--- Analysis of Disfluency ---\n",
      "- Tasks ... Arg_Oly, \n",
      "- Sample size = 17557\n",
      "- Data size   = 128\n",
      "\n",
      "- Metrics\n",
      "\tCohen's Kappa:  0.689 (|0.671 - 0.707|)\n",
      "\tAccuracy:       0.942\n",
      "\n",
      "\tLabels    | ['<disfluency>' '<word>']\n",
      "\tPrecision | [0.73786949 0.96492007]\n",
      "\tRecall    | [0.70522388 0.97002742]\n",
      "\tF1 score  | [0.72117743 0.96746701]\n"
     ]
    }
   ],
   "source": [
    "df_kappa, df_cfmx = evaluate_reliability([\"Arg_Oly\"], ignore_tag=\"<CI>-<CE>-<FILLER>\")\n",
    "df_kappa_disfl_list.append(df_kappa)\n",
    "df_cfmx_disfl_list.append(df_cfmx)"
   ]
  },
  {
   "cell_type": "code",
   "execution_count": 9,
   "metadata": {},
   "outputs": [
    {
     "name": "stdout",
     "output_type": "stream",
     "text": [
      "--- Analysis of Disfluency ---\n",
      "- Tasks ... Cartoon, \n",
      "- Sample size = 22850\n",
      "- Data size   = 128\n",
      "\n",
      "- Metrics\n",
      "\tCohen's Kappa:  0.714 (|0.699 - 0.728|)\n",
      "\tAccuracy:       0.941\n",
      "\n",
      "\tLabels    | ['<disfluency>' '<word>']\n",
      "\tPrecision | [0.79102106 0.95957311]\n",
      "\tRecall    | [0.70778528 0.97374857]\n",
      "\tF1 score  | [0.74709193 0.96660887]\n"
     ]
    }
   ],
   "source": [
    "df_kappa, df_cfmx = evaluate_reliability([\"Cartoon\"], ignore_tag=\"<CI>-<CE>-<FILLER>\")\n",
    "df_kappa_disfl_list.append(df_kappa)\n",
    "df_cfmx_disfl_list.append(df_cfmx)"
   ]
  },
  {
   "cell_type": "code",
   "execution_count": 10,
   "metadata": {},
   "outputs": [
    {
     "name": "stdout",
     "output_type": "stream",
     "text": [
      "--- Analysis of Disfluency ---\n",
      "- Tasks ... RtSwithoutRAA, \n",
      "- Sample size = 23608\n",
      "- Data size   = 127\n",
      "\n",
      "- Metrics\n",
      "\tCohen's Kappa:  0.680 (|0.665 - 0.695|)\n",
      "\tAccuracy:       0.935\n",
      "\n",
      "\tLabels    | ['<disfluency>' '<word>']\n",
      "\tPrecision | [0.77409163 0.9537863 ]\n",
      "\tRecall    | [0.66802999 0.9723324 ]\n",
      "\tF1 score  | [0.71716063 0.96297006]\n"
     ]
    }
   ],
   "source": [
    "df_kappa, df_cfmx = evaluate_reliability([\"RtSwithoutRAA\"], ignore_tag=\"<CI>-<CE>-<FILLER>\")\n",
    "df_kappa_disfl_list.append(df_kappa)\n",
    "df_cfmx_disfl_list.append(df_cfmx)"
   ]
  },
  {
   "cell_type": "code",
   "execution_count": 11,
   "metadata": {},
   "outputs": [
    {
     "name": "stdout",
     "output_type": "stream",
     "text": [
      "--- Analysis of Disfluency ---\n",
      "- Tasks ... RtSwithRAA, \n",
      "- Sample size = 23761\n",
      "- Data size   = 128\n",
      "\n",
      "- Metrics\n",
      "\tCohen's Kappa:  0.646 (|0.630 - 0.661|)\n",
      "\tAccuracy:       0.928\n",
      "\n",
      "\tLabels    | ['<disfluency>' '<word>']\n",
      "\tPrecision | [0.73043818 0.95189814]\n",
      "\tRecall    | [0.64669207 0.96699243]\n",
      "\tF1 score  | [0.68601874 0.95938592]\n"
     ]
    }
   ],
   "source": [
    "df_kappa, df_cfmx = evaluate_reliability([\"RtSwithRAA\"], ignore_tag=\"<CI>-<CE>-<FILLER>\")\n",
    "df_kappa_disfl_list.append(df_kappa)\n",
    "df_cfmx_disfl_list.append(df_cfmx)"
   ]
  },
  {
   "cell_type": "code",
   "execution_count": 12,
   "metadata": {},
   "outputs": [
    {
     "name": "stdout",
     "output_type": "stream",
     "text": [
      "--- Analysis of Disfluency ---\n",
      "- Tasks ... WoZ_Interview, \n",
      "- Sample size = 41730\n",
      "- Data size   = 1743\n",
      "\n",
      "- Metrics\n",
      "\tCohen's Kappa:  0.597 (|0.583 - 0.611|)\n",
      "\tAccuracy:       0.934\n",
      "\n",
      "\tLabels    | ['<disfluency>' '<word>']\n",
      "\tPrecision | [0.67046101 0.95876073]\n",
      "\tRecall    | [0.59918616 0.96936346]\n",
      "\tF1 score  | [0.63282299 0.96403294]\n"
     ]
    }
   ],
   "source": [
    "df_kappa, df_cfmx = evaluate_reliability([\"WoZ_Interview\"], ignore_tag=\"<CI>-<CE>-<FILLER>\")\n",
    "df_kappa_disfl_list.append(df_kappa)\n",
    "df_cfmx_disfl_list.append(df_cfmx)\n",
    "# TODO: df_annotation_manu の disfluency の位置の訂正"
   ]
  },
  {
   "cell_type": "markdown",
   "metadata": {},
   "source": [
    "Disfluency Detector のアップデートで，長い系列の言い淀みのアノテーションが可能になった．\n",
    "ただし，それが不必要な箇所まで言い淀みと判定してしまうケースが増えていそう(e.g., 008_031)．\n",
    "実際に，recall が 0.631 → 0.804 と APSIPA から値が向上しているのに対して，precision は 0.832 → 0.565 と値が大きく低下している．取りこぼしが少なくなった反面，余計な箇所まで言い淀みと判定していまい，その結果 kappa が低下した可能性 大\n",
    "\n",
    "**TODO: 旧版の言い淀み検出に取り替えた場合の性能を見たい / もしくは，L1 で学習したモデルに変更した場合はどうなる...？**"
   ]
  },
  {
   "cell_type": "markdown",
   "metadata": {},
   "source": [
    "#### 3.1.2. Beginners"
   ]
  },
  {
   "cell_type": "code",
   "execution_count": 13,
   "metadata": {},
   "outputs": [
    {
     "name": "stdout",
     "output_type": "stream",
     "text": [
      "--- Analysis of Disfluency ---\n",
      "- Tasks ... Arg_Oly, \n",
      "- Target rating ... [0, 1, 2]\n",
      "- Sample size = 3923\n",
      "- Data size   = 33\n",
      "\n",
      "- Metrics\n",
      "\tCohen's Kappa:  0.675 (|0.640 - 0.710|)\n",
      "\tAccuracy:       0.925\n",
      "\n",
      "\tLabels    | ['<disfluency>' '<word>']\n",
      "\tPrecision | [0.75502008 0.94948905]\n",
      "\tRecall    | [0.6848816  0.96384114]\n",
      "\tF1 score  | [0.7182426  0.95661127]\n"
     ]
    }
   ],
   "source": [
    "df_kappa, df_cfmx = evaluate_reliability([\"Arg_Oly\"], ignore_tag=\"<CI>-<CE>-<FILLER>\", rating_filter=[0, 1, 2])\n",
    "df_kappa_disfl_list.append(df_kappa)\n",
    "df_cfmx_disfl_list.append(df_cfmx)"
   ]
  },
  {
   "cell_type": "code",
   "execution_count": 14,
   "metadata": {},
   "outputs": [
    {
     "name": "stdout",
     "output_type": "stream",
     "text": [
      "--- Analysis of Disfluency ---\n",
      "- Tasks ... Cartoon, \n",
      "- Target rating ... [0, 1, 2]\n",
      "- Sample size = 5000\n",
      "- Data size   = 33\n",
      "\n",
      "- Metrics\n",
      "\tCohen's Kappa:  0.710 (|0.682 - 0.738|)\n",
      "\tAccuracy:       0.927\n",
      "\n",
      "\tLabels    | ['<disfluency>' '<word>']\n",
      "\tPrecision | [0.80403458 0.94658616]\n",
      "\tRecall    | [0.70812183 0.9677113 ]\n",
      "\tF1 score  | [0.75303644 0.95703217]\n"
     ]
    }
   ],
   "source": [
    "df_kappa, df_cfmx = evaluate_reliability([\"Cartoon\"], ignore_tag=\"<CI>-<CE>-<FILLER>\", rating_filter=[0, 1, 2])\n",
    "df_kappa_disfl_list.append(df_kappa)\n",
    "df_cfmx_disfl_list.append(df_cfmx)"
   ]
  },
  {
   "cell_type": "code",
   "execution_count": 15,
   "metadata": {},
   "outputs": [
    {
     "name": "stdout",
     "output_type": "stream",
     "text": [
      "--- Analysis of Disfluency ---\n",
      "- Tasks ... RtSwithoutRAA, \n",
      "- Target rating ... [0, 1, 2]\n",
      "- Sample size = 5466\n",
      "- Data size   = 32\n",
      "\n",
      "- Metrics\n",
      "\tCohen's Kappa:  0.684 (|0.656 - 0.712|)\n",
      "\tAccuracy:       0.923\n",
      "\n",
      "\tLabels    | ['<disfluency>' '<word>']\n",
      "\tPrecision | [0.77322404 0.94613435]\n",
      "\tRecall    | [0.68940317 0.96426265]\n",
      "\tF1 score  | [0.72891178 0.95511249]\n"
     ]
    }
   ],
   "source": [
    "df_kappa, df_cfmx = evaluate_reliability([\"RtSwithoutRAA\"], ignore_tag=\"<CI>-<CE>-<FILLER>\", rating_filter=[0, 1, 2])\n",
    "df_kappa_disfl_list.append(df_kappa)\n",
    "df_cfmx_disfl_list.append(df_cfmx)"
   ]
  },
  {
   "cell_type": "code",
   "execution_count": 16,
   "metadata": {},
   "outputs": [
    {
     "name": "stdout",
     "output_type": "stream",
     "text": [
      "--- Analysis of Disfluency ---\n",
      "- Tasks ... RtSwithRAA, \n",
      "- Target rating ... [0, 1, 2]\n",
      "- Sample size = 5092\n",
      "- Data size   = 33\n",
      "\n",
      "- Metrics\n",
      "\tCohen's Kappa:  0.642 (|0.611 - 0.674|)\n",
      "\tAccuracy:       0.917\n",
      "\n",
      "\tLabels    | ['<disfluency>' '<word>']\n",
      "\tPrecision | [0.70386905 0.94909502]\n",
      "\tRecall    | [0.67765043 0.95471097]\n",
      "\tF1 score  | [0.69051095 0.95189471]\n"
     ]
    }
   ],
   "source": [
    "df_kappa, df_cfmx = evaluate_reliability([\"RtSwithRAA\"], ignore_tag=\"<CI>-<CE>-<FILLER>\", rating_filter=[0, 1, 2])\n",
    "df_kappa_disfl_list.append(df_kappa)\n",
    "df_cfmx_disfl_list.append(df_cfmx)"
   ]
  },
  {
   "cell_type": "code",
   "execution_count": 17,
   "metadata": {},
   "outputs": [
    {
     "name": "stdout",
     "output_type": "stream",
     "text": [
      "--- Analysis of Disfluency ---\n",
      "- Tasks ... WoZ_Interview, \n",
      "- Target rating ... [0, 1]\n",
      "- Sample size = 7967\n",
      "- Data size   = 603\n",
      "\n",
      "- Metrics\n",
      "\tCohen's Kappa:  0.607 (|0.579 - 0.636|)\n",
      "\tAccuracy:       0.926\n",
      "\n",
      "\tLabels    | ['<disfluency>' '<word>']\n",
      "\tPrecision | [0.74657534 0.94376123]\n",
      "\tRecall    | [0.57247899 0.97362794]\n",
      "\tF1 score  | [0.64803805 0.95846197]\n"
     ]
    }
   ],
   "source": [
    "df_kappa, df_cfmx = evaluate_reliability([\"WoZ_Interview\"], ignore_tag=\"<CI>-<CE>-<FILLER>\", rating_filter=[0, 1])\n",
    "df_kappa_disfl_list.append(df_kappa)\n",
    "df_cfmx_disfl_list.append(df_cfmx)"
   ]
  },
  {
   "cell_type": "markdown",
   "metadata": {},
   "source": [
    "#### 3.1.3. Intermediate"
   ]
  },
  {
   "cell_type": "code",
   "execution_count": 18,
   "metadata": {},
   "outputs": [
    {
     "name": "stdout",
     "output_type": "stream",
     "text": [
      "--- Analysis of Disfluency ---\n",
      "- Tasks ... Arg_Oly, \n",
      "- Target rating ... [3, 4, 5]\n",
      "- Sample size = 8571\n",
      "- Data size   = 66\n",
      "\n",
      "- Metrics\n",
      "\tCohen's Kappa:  0.697 (|0.672 - 0.722|)\n",
      "\tAccuracy:       0.940\n",
      "\n",
      "\tLabels    | ['<disfluency>' '<word>']\n",
      "\tPrecision | [0.74038462 0.96489849]\n",
      "\tRecall    | [0.72112383 0.96806833]\n",
      "\tF1 score  | [0.73062731 0.96648081]\n"
     ]
    }
   ],
   "source": [
    "df_kappa, df_cfmx = evaluate_reliability([\"Arg_Oly\"], ignore_tag=\"<CI>-<CE>-<FILLER>\", rating_filter=[3, 4, 5])\n",
    "df_kappa_disfl_list.append(df_kappa)\n",
    "df_cfmx_disfl_list.append(df_cfmx)"
   ]
  },
  {
   "cell_type": "code",
   "execution_count": 19,
   "metadata": {},
   "outputs": [
    {
     "name": "stdout",
     "output_type": "stream",
     "text": [
      "--- Analysis of Disfluency ---\n",
      "- Tasks ... Cartoon, \n",
      "- Target rating ... [3, 4, 5]\n",
      "- Sample size = 11562\n",
      "- Data size   = 66\n",
      "\n",
      "- Metrics\n",
      "\tCohen's Kappa:  0.734 (|0.715 - 0.754|)\n",
      "\tAccuracy:       0.944\n",
      "\n",
      "\tLabels    | ['<disfluency>' '<word>']\n",
      "\tPrecision | [0.79369842 0.96363281]\n",
      "\tRecall    | [0.73986014 0.97285827]\n",
      "\tF1 score  | [0.76583424 0.96822356]\n"
     ]
    }
   ],
   "source": [
    "df_kappa, df_cfmx = evaluate_reliability([\"Cartoon\"], ignore_tag=\"<CI>-<CE>-<FILLER>\", rating_filter=[3, 4, 5])\n",
    "df_kappa_disfl_list.append(df_kappa)\n",
    "df_cfmx_disfl_list.append(df_cfmx)"
   ]
  },
  {
   "cell_type": "code",
   "execution_count": 20,
   "metadata": {},
   "outputs": [
    {
     "name": "stdout",
     "output_type": "stream",
     "text": [
      "--- Analysis of Disfluency ---\n",
      "- Tasks ... RtSwithoutRAA, \n",
      "- Target rating ... [3, 4, 5]\n",
      "- Sample size = 11330\n",
      "- Data size   = 66\n",
      "\n",
      "- Metrics\n",
      "\tCohen's Kappa:  0.677 (|0.655 - 0.698|)\n",
      "\tAccuracy:       0.934\n",
      "\n",
      "\tLabels    | ['<disfluency>' '<word>']\n",
      "\tPrecision | [0.7700579  0.95366071]\n",
      "\tRecall    | [0.665      0.97200403]\n",
      "\tF1 score  | [0.7136834 0.962745 ]\n"
     ]
    }
   ],
   "source": [
    "df_kappa, df_cfmx = evaluate_reliability([\"RtSwithoutRAA\"], ignore_tag=\"<CI>-<CE>-<FILLER>\", rating_filter=[3, 4, 5])\n",
    "df_kappa_disfl_list.append(df_kappa)\n",
    "df_cfmx_disfl_list.append(df_cfmx)"
   ]
  },
  {
   "cell_type": "code",
   "execution_count": 21,
   "metadata": {},
   "outputs": [
    {
     "name": "stdout",
     "output_type": "stream",
     "text": [
      "--- Analysis of Disfluency ---\n",
      "- Tasks ... RtSwithRAA, \n",
      "- Target rating ... [3, 4, 5]\n",
      "- Sample size = 11858\n",
      "- Data size   = 66\n",
      "\n",
      "- Metrics\n",
      "\tCohen's Kappa:  0.635 (|0.612 - 0.657|)\n",
      "\tAccuracy:       0.927\n",
      "\n",
      "\tLabels    | ['<disfluency>' '<word>']\n",
      "\tPrecision | [0.71860095 0.95150943]\n",
      "\tRecall    | [0.63751763 0.96609195]\n",
      "\tF1 score  | [0.67563528 0.95874525]\n"
     ]
    }
   ],
   "source": [
    "df_kappa, df_cfmx = evaluate_reliability([\"RtSwithRAA\"], ignore_tag=\"<CI>-<CE>-<FILLER>\", rating_filter=[3, 4, 5])\n",
    "df_kappa_disfl_list.append(df_kappa)\n",
    "df_cfmx_disfl_list.append(df_cfmx)"
   ]
  },
  {
   "cell_type": "code",
   "execution_count": 22,
   "metadata": {},
   "outputs": [
    {
     "name": "stdout",
     "output_type": "stream",
     "text": [
      "--- Analysis of Disfluency ---\n",
      "- Tasks ... WoZ_Interview, \n",
      "- Target rating ... [2, 3]\n",
      "- Sample size = 26947\n",
      "- Data size   = 979\n",
      "\n",
      "- Metrics\n",
      "\tCohen's Kappa:  0.597 (|0.580 - 0.613|)\n",
      "\tAccuracy:       0.931\n",
      "\n",
      "\tLabels    | ['<disfluency>' '<word>']\n",
      "\tPrecision | [0.66379664 0.95744247]\n",
      "\tRecall    | [0.60818933 0.9662343 ]\n",
      "\tF1 score  | [0.63477749 0.96181829]\n"
     ]
    }
   ],
   "source": [
    "df_kappa, df_cfmx = evaluate_reliability([\"WoZ_Interview\"], ignore_tag=\"<CI>-<CE>-<FILLER>\", rating_filter=[2, 3])\n",
    "df_kappa_disfl_list.append(df_kappa)\n",
    "df_cfmx_disfl_list.append(df_cfmx)"
   ]
  },
  {
   "cell_type": "markdown",
   "metadata": {},
   "source": [
    "#### 3.1.4. Advanced"
   ]
  },
  {
   "cell_type": "code",
   "execution_count": 23,
   "metadata": {},
   "outputs": [
    {
     "name": "stdout",
     "output_type": "stream",
     "text": [
      "--- Analysis of Disfluency ---\n",
      "- Tasks ... Arg_Oly, \n",
      "- Target rating ... [6, 7, 8]\n",
      "- Sample size = 5063\n",
      "- Data size   = 29\n",
      "\n",
      "- Metrics\n",
      "\tCohen's Kappa:  0.678 (|0.637 - 0.718|)\n",
      "\tAccuracy:       0.957\n",
      "\n",
      "\tLabels    | ['<disfluency>' '<word>']\n",
      "\tPrecision | [0.70752089 0.97619048]\n",
      "\tRecall    | [0.69398907 0.97764531]\n",
      "\tF1 score  | [0.70068966 0.97691735]\n"
     ]
    }
   ],
   "source": [
    "df_kappa, df_cfmx = evaluate_reliability([\"Arg_Oly\"], ignore_tag=\"<CI>-<CE>-<FILLER>\", rating_filter=[6, 7, 8])\n",
    "df_kappa_disfl_list.append(df_kappa)\n",
    "df_cfmx_disfl_list.append(df_cfmx)"
   ]
  },
  {
   "cell_type": "code",
   "execution_count": 24,
   "metadata": {},
   "outputs": [
    {
     "name": "stdout",
     "output_type": "stream",
     "text": [
      "--- Analysis of Disfluency ---\n",
      "- Tasks ... Cartoon, \n",
      "- Target rating ... [6, 7, 8]\n",
      "- Sample size = 6288\n",
      "- Data size   = 29\n",
      "\n",
      "- Metrics\n",
      "\tCohen's Kappa:  0.662 (|0.629 - 0.696|)\n",
      "\tAccuracy:       0.947\n",
      "\n",
      "\tLabels    | ['<disfluency>' '<word>']\n",
      "\tPrecision | [0.76530612 0.96205588]\n",
      "\tRecall    | [0.6302521  0.97979975]\n",
      "\tF1 score  | [0.69124424 0.97084675]\n"
     ]
    }
   ],
   "source": [
    "df_kappa, df_cfmx = evaluate_reliability([\"Cartoon\"], ignore_tag=\"<CI>-<CE>-<FILLER>\", rating_filter=[6, 7, 8])\n",
    "df_kappa_disfl_list.append(df_kappa)\n",
    "df_cfmx_disfl_list.append(df_cfmx)"
   ]
  },
  {
   "cell_type": "code",
   "execution_count": 25,
   "metadata": {},
   "outputs": [
    {
     "name": "stdout",
     "output_type": "stream",
     "text": [
      "--- Analysis of Disfluency ---\n",
      "- Tasks ... RtSwithoutRAA, \n",
      "- Target rating ... [6, 7, 8]\n",
      "- Sample size = 6812\n",
      "- Data size   = 29\n",
      "\n",
      "- Metrics\n",
      "\tCohen's Kappa:  0.680 (|0.650 - 0.710|)\n",
      "\tAccuracy:       0.945\n",
      "\n",
      "\tLabels    | ['<disfluency>' '<word>']\n",
      "\tPrecision | [0.78341794 0.95981353]\n",
      "\tRecall    | [0.64936886 0.97901295]\n",
      "\tF1 score  | [0.7101227  0.96931818]\n"
     ]
    }
   ],
   "source": [
    "df_kappa, df_cfmx = evaluate_reliability([\"RtSwithoutRAA\"], ignore_tag=\"<CI>-<CE>-<FILLER>\", rating_filter=[6, 7, 8])\n",
    "df_kappa_disfl_list.append(df_kappa)\n",
    "df_cfmx_disfl_list.append(df_cfmx)"
   ]
  },
  {
   "cell_type": "code",
   "execution_count": 26,
   "metadata": {},
   "outputs": [
    {
     "name": "stdout",
     "output_type": "stream",
     "text": [
      "--- Analysis of Disfluency ---\n",
      "- Tasks ... RtSwithRAA, \n",
      "- Target rating ... [6, 7, 8]\n",
      "- Sample size = 6811\n",
      "- Data size   = 29\n",
      "\n",
      "- Metrics\n",
      "\tCohen's Kappa:  0.668 (|0.638 - 0.697|)\n",
      "\tAccuracy:       0.939\n",
      "\n",
      "\tLabels    | ['<disfluency>' '<word>']\n",
      "\tPrecision | [0.7827476 0.9545675]\n",
      "\tRecall    | [0.63553826 0.97748344]\n",
      "\tF1 score  | [0.70150322 0.96588957]\n"
     ]
    }
   ],
   "source": [
    "df_kappa, df_cfmx = evaluate_reliability([\"RtSwithRAA\"], ignore_tag=\"<CI>-<CE>-<FILLER>\", rating_filter=[6, 7, 8])\n",
    "df_kappa_disfl_list.append(df_kappa)\n",
    "df_cfmx_disfl_list.append(df_cfmx)"
   ]
  },
  {
   "cell_type": "code",
   "execution_count": 27,
   "metadata": {},
   "outputs": [
    {
     "name": "stdout",
     "output_type": "stream",
     "text": [
      "--- Analysis of Disfluency ---\n",
      "- Tasks ... WoZ_Interview, \n",
      "- Target rating ... [4, 5]\n",
      "- Sample size = 6816\n",
      "- Data size   = 161\n",
      "\n",
      "- Metrics\n",
      "\tCohen's Kappa:  0.558 (|0.511 - 0.604|)\n",
      "\tAccuracy:       0.959\n",
      "\n",
      "\tLabels    | ['<disfluency>' '<word>']\n",
      "\tPrecision | [0.55652174 0.98052851]\n",
      "\tRecall    | [0.60377358 0.97645429]\n",
      "\tF1 score  | [0.57918552 0.97848716]\n"
     ]
    }
   ],
   "source": [
    "df_kappa, df_cfmx = evaluate_reliability([\"WoZ_Interview\"], ignore_tag=\"<CI>-<CE>-<FILLER>\", rating_filter=[4, 5])\n",
    "df_kappa_disfl_list.append(df_kappa)\n",
    "df_cfmx_disfl_list.append(df_cfmx)"
   ]
  },
  {
   "cell_type": "markdown",
   "metadata": {},
   "source": [
    "MEMO: CEFR fluency のスコアが上がるほど precision と kappa が低下している．"
   ]
  },
  {
   "cell_type": "code",
   "execution_count": 28,
   "metadata": {},
   "outputs": [],
   "source": [
    "df_kappa_disfl = pd.concat(df_kappa_disfl_list)\n",
    "df_kappa_disfl.sort_index()\n",
    "df_kappa_disfl.to_csv(\"/home/matsuura/Development/app/feature_extraction_api/experiment/data/kappa_disfl_detection.csv\")"
   ]
  },
  {
   "cell_type": "code",
   "execution_count": 29,
   "metadata": {},
   "outputs": [],
   "source": [
    "df_cfmx_disfl = pd.concat(df_cfmx_disfl_list)\n",
    "df_cfmx_disfl.sort_index()\n",
    "df_cfmx_disfl.to_csv(\"/home/matsuura/Development/app/feature_extraction_api/experiment/data/cfmx_disfl_detection.csv\")"
   ]
  },
  {
   "cell_type": "markdown",
   "metadata": {},
   "source": [
    "### 3.2. Pause Location Classification"
   ]
  },
  {
   "cell_type": "code",
   "execution_count": 30,
   "metadata": {},
   "outputs": [],
   "source": [
    "df_kappa_pl_list = []\n",
    "df_cfmx_pl_list = []"
   ]
  },
  {
   "cell_type": "markdown",
   "metadata": {},
   "source": [
    "#### 3.2.1. All Ratings"
   ]
  },
  {
   "cell_type": "code",
   "execution_count": 31,
   "metadata": {},
   "outputs": [
    {
     "name": "stdout",
     "output_type": "stream",
     "text": [
      "--- Analysis of Pause Location ---\n",
      "- Tasks ... Arg_Oly, Cartoon, RtSwithoutRAA, RtSwithRAA, WoZ_Interview, \n",
      "- Sample size = 161539\n",
      "- Data size   = 2254\n",
      "\n",
      "- Metrics\n",
      "\tCohen's Kappa:  0.707 (|0.704 - 0.711|)\n",
      "\tAccuracy:       0.880\n",
      "\n",
      "\tLabels    | ['<ci>' '<ce>' '<word>']\n",
      "\tPrecision | [0.67758925 0.69779267 0.95775995]\n",
      "\tRecall    | [0.83463751 0.65552057 0.90790205]\n",
      "\tF1 score  | [0.74795847 0.67599642 0.9321648 ]\n"
     ]
    }
   ],
   "source": [
    "_, _ = evaluate_reliability(TASK, ignore_tag=\"<DISFLUENCY>-<FILLER>\")"
   ]
  },
  {
   "cell_type": "code",
   "execution_count": 32,
   "metadata": {},
   "outputs": [
    {
     "name": "stdout",
     "output_type": "stream",
     "text": [
      "--- Analysis of Pause Location ---\n",
      "- Tasks ... Arg_Oly, \n",
      "- Sample size = 21808\n",
      "- Data size   = 128\n",
      "\n",
      "- Metrics\n",
      "\tCohen's Kappa:  0.742 (|0.732 - 0.752|)\n",
      "\tAccuracy:       0.895\n",
      "\n",
      "\tLabels    | ['<ci>' '<ce>' '<word>']\n",
      "\tPrecision | [0.73166768 0.76323676 0.95410476]\n",
      "\tRecall    | [0.83728498 0.66900175 0.92611831]\n",
      "\tF1 score  | [0.78092141 0.71301913 0.93990325]\n"
     ]
    }
   ],
   "source": [
    "df_kappa, df_cfmx = evaluate_reliability([\"Arg_Oly\"], ignore_tag=\"<DISFLUENCY>-<FILLER>\")\n",
    "df_kappa_pl_list.append(df_kappa)\n",
    "df_cfmx_pl_list.append(df_cfmx)"
   ]
  },
  {
   "cell_type": "code",
   "execution_count": 33,
   "metadata": {},
   "outputs": [
    {
     "name": "stdout",
     "output_type": "stream",
     "text": [
      "--- Analysis of Pause Location ---\n",
      "- Tasks ... Cartoon, \n",
      "- Sample size = 28744\n",
      "- Data size   = 128\n",
      "\n",
      "- Metrics\n",
      "\tCohen's Kappa:  0.749 (|0.741 - 0.757|)\n",
      "\tAccuracy:       0.892\n",
      "\n",
      "\tLabels    | ['<ci>' '<ce>' '<word>']\n",
      "\tPrecision | [0.70514913 0.78563536 0.96335727]\n",
      "\tRecall    | [0.85483001 0.7163728  0.91768868]\n",
      "\tF1 score  | [0.77280859 0.74940711 0.9399686 ]\n"
     ]
    }
   ],
   "source": [
    "df_kappa, df_cfmx = evaluate_reliability([\"Cartoon\"], ignore_tag=\"<DISFLUENCY>-<FILLER>\")\n",
    "df_kappa_pl_list.append(df_kappa)\n",
    "df_cfmx_pl_list.append(df_cfmx)"
   ]
  },
  {
   "cell_type": "code",
   "execution_count": 34,
   "metadata": {},
   "outputs": [
    {
     "name": "stdout",
     "output_type": "stream",
     "text": [
      "--- Analysis of Pause Location ---\n",
      "- Tasks ... RtSwithoutRAA, \n",
      "- Sample size = 29903\n",
      "- Data size   = 127\n",
      "\n",
      "- Metrics\n",
      "\tCohen's Kappa:  0.732 (|0.724 - 0.740|)\n",
      "\tAccuracy:       0.884\n",
      "\n",
      "\tLabels    | ['<ci>' '<ce>' '<word>']\n",
      "\tPrecision | [0.71016465 0.74799754 0.95561607]\n",
      "\tRecall    | [0.84917019 0.66266376 0.9122919 ]\n",
      "\tF1 score  | [0.77347166 0.70274964 0.93345156]\n"
     ]
    }
   ],
   "source": [
    "df_kappa, df_cfmx = evaluate_reliability([\"RtSwithoutRAA\"], ignore_tag=\"<DISFLUENCY>-<FILLER>\")\n",
    "df_kappa_pl_list.append(df_kappa)\n",
    "df_cfmx_pl_list.append(df_cfmx)"
   ]
  },
  {
   "cell_type": "code",
   "execution_count": 35,
   "metadata": {},
   "outputs": [
    {
     "name": "stdout",
     "output_type": "stream",
     "text": [
      "--- Analysis of Pause Location ---\n",
      "- Tasks ... RtSwithRAA, \n",
      "- Sample size = 30134\n",
      "- Data size   = 128\n",
      "\n",
      "- Metrics\n",
      "\tCohen's Kappa:  0.732 (|0.724 - 0.740|)\n",
      "\tAccuracy:       0.883\n",
      "\n",
      "\tLabels    | ['<ci>' '<ce>' '<word>']\n",
      "\tPrecision | [0.71634231 0.73998729 0.95336911]\n",
      "\tRecall    | [0.84870499 0.63192182 0.91425319]\n",
      "\tF1 score  | [0.77692641 0.68169839 0.93340152]\n"
     ]
    }
   ],
   "source": [
    "df_kappa, df_cfmx = evaluate_reliability([\"RtSwithRAA\"], ignore_tag=\"<DISFLUENCY>-<FILLER>\")\n",
    "df_kappa_pl_list.append(df_kappa)\n",
    "df_cfmx_pl_list.append(df_cfmx)"
   ]
  },
  {
   "cell_type": "code",
   "execution_count": 36,
   "metadata": {},
   "outputs": [
    {
     "name": "stdout",
     "output_type": "stream",
     "text": [
      "--- Analysis of Pause Location ---\n",
      "- Tasks ... WoZ_Interview, \n",
      "- Sample size = 50950\n",
      "- Data size   = 1743\n",
      "\n",
      "- Metrics\n",
      "\tCohen's Kappa:  0.626 (|0.619 - 0.634|)\n",
      "\tAccuracy:       0.863\n",
      "\n",
      "\tLabels    | ['<ci>' '<ce>' '<word>']\n",
      "\tPrecision | [0.58244526 0.55706727 0.95992839]\n",
      "\tRecall    | [0.79471249 0.61161826 0.88981086]\n",
      "\tF1 score  | [0.67222005 0.58306962 0.92354066]\n"
     ]
    }
   ],
   "source": [
    "df_kappa, df_cfmx = evaluate_reliability([\"WoZ_Interview\"], ignore_tag=\"<DISFLUENCY>-<FILLER>\")\n",
    "df_kappa_pl_list.append(df_kappa)\n",
    "df_cfmx_pl_list.append(df_cfmx)"
   ]
  },
  {
   "cell_type": "markdown",
   "metadata": {},
   "source": [
    "#### 3.2.2. Beginners"
   ]
  },
  {
   "cell_type": "code",
   "execution_count": 37,
   "metadata": {},
   "outputs": [
    {
     "name": "stdout",
     "output_type": "stream",
     "text": [
      "--- Analysis of Pause Location ---\n",
      "- Tasks ... Arg_Oly, \n",
      "- Target rating ... [0, 1, 2]\n",
      "- Sample size = 4997\n",
      "- Data size   = 33\n",
      "\n",
      "- Metrics\n",
      "\tCohen's Kappa:  0.731 (|0.711 - 0.751|)\n",
      "\tAccuracy:       0.880\n",
      "\n",
      "\tLabels    | ['<ci>' '<ce>' '<word>']\n",
      "\tPrecision | [0.78079009 0.71830986 0.92699685]\n",
      "\tRecall    | [0.8057554  0.6023622  0.92726231]\n",
      "\tF1 score  | [0.79307632 0.65524625 0.92712956]\n"
     ]
    }
   ],
   "source": [
    "df_kappa, df_cfmx = evaluate_reliability([\"Arg_Oly\"], ignore_tag=\"<DISFLUENCY>-<FILLER>\", rating_filter=[0, 1, 2])\n",
    "df_kappa_pl_list.append(df_kappa)\n",
    "df_cfmx_pl_list.append(df_cfmx)"
   ]
  },
  {
   "cell_type": "code",
   "execution_count": 38,
   "metadata": {},
   "outputs": [
    {
     "name": "stdout",
     "output_type": "stream",
     "text": [
      "--- Analysis of Pause Location ---\n",
      "- Tasks ... Cartoon, \n",
      "- Target rating ... [0, 1, 2]\n",
      "- Sample size = 6444\n",
      "- Data size   = 33\n",
      "\n",
      "- Metrics\n",
      "\tCohen's Kappa:  0.752 (|0.736 - 0.768|)\n",
      "\tAccuracy:       0.883\n",
      "\n",
      "\tLabels    | ['<ci>' '<ce>' '<word>']\n",
      "\tPrecision | [0.77183908 0.76190476 0.93874249]\n",
      "\tRecall    | [0.83780412 0.65753425 0.92232569]\n",
      "\tF1 score  | [0.80346994 0.70588235 0.93046168]\n"
     ]
    }
   ],
   "source": [
    "df_kappa, df_cfmx = evaluate_reliability([\"Cartoon\"], ignore_tag=\"<DISFLUENCY>-<FILLER>\", rating_filter=[0, 1, 2])\n",
    "df_kappa_pl_list.append(df_kappa)\n",
    "df_cfmx_pl_list.append(df_cfmx)"
   ]
  },
  {
   "cell_type": "code",
   "execution_count": 39,
   "metadata": {},
   "outputs": [
    {
     "name": "stdout",
     "output_type": "stream",
     "text": [
      "--- Analysis of Pause Location ---\n",
      "- Tasks ... RtSwithoutRAA, \n",
      "- Target rating ... [0, 1, 2]\n",
      "- Sample size = 7062\n",
      "- Data size   = 32\n",
      "\n",
      "- Metrics\n",
      "\tCohen's Kappa:  0.733 (|0.717 - 0.749|)\n",
      "\tAccuracy:       0.875\n",
      "\n",
      "\tLabels    | ['<ci>' '<ce>' '<word>']\n",
      "\tPrecision | [0.75       0.68668407 0.94306352]\n",
      "\tRecall    | [0.83891095 0.62470309 0.9100041 ]\n",
      "\tF1 score  | [0.79196787 0.65422886 0.92623891]\n"
     ]
    }
   ],
   "source": [
    "df_kappa, df_cfmx = evaluate_reliability([\"RtSwithoutRAA\"], ignore_tag=\"<DISFLUENCY>-<FILLER>\", rating_filter=[0, 1, 2])\n",
    "df_kappa_pl_list.append(df_kappa)\n",
    "df_cfmx_pl_list.append(df_cfmx)"
   ]
  },
  {
   "cell_type": "code",
   "execution_count": 40,
   "metadata": {},
   "outputs": [
    {
     "name": "stdout",
     "output_type": "stream",
     "text": [
      "--- Analysis of Pause Location ---\n",
      "- Tasks ... RtSwithRAA, \n",
      "- Target rating ... [0, 1, 2]\n",
      "- Sample size = 6652\n",
      "- Data size   = 33\n",
      "\n",
      "- Metrics\n",
      "\tCohen's Kappa:  0.746 (|0.730 - 0.762|)\n",
      "\tAccuracy:       0.881\n",
      "\n",
      "\tLabels    | ['<ci>' '<ce>' '<word>']\n",
      "\tPrecision | [0.76968399 0.7251462  0.93990547]\n",
      "\tRecall    | [0.85180794 0.59615385 0.91800396]\n",
      "\tF1 score  | [0.80866629 0.65435356 0.92882562]\n"
     ]
    }
   ],
   "source": [
    "df_kappa, df_cfmx = evaluate_reliability([\"RtSwithRAA\"], ignore_tag=\"<DISFLUENCY>-<FILLER>\", rating_filter=[0, 1, 2])\n",
    "df_kappa_pl_list.append(df_kappa)\n",
    "df_cfmx_pl_list.append(df_cfmx)"
   ]
  },
  {
   "cell_type": "code",
   "execution_count": 41,
   "metadata": {},
   "outputs": [
    {
     "name": "stdout",
     "output_type": "stream",
     "text": [
      "--- Analysis of Pause Location ---\n",
      "- Tasks ... WoZ_Interview, \n",
      "- Target rating ... [0, 1]\n",
      "- Sample size = 9886\n",
      "- Data size   = 603\n",
      "\n",
      "- Metrics\n",
      "\tCohen's Kappa:  0.611 (|0.593 - 0.628|)\n",
      "\tAccuracy:       0.848\n",
      "\n",
      "\tLabels    | ['<ci>' '<ce>' '<word>']\n",
      "\tPrecision | [0.65490575 0.55530474 0.9194467 ]\n",
      "\tRecall    | [0.71165966 0.52229299 0.90267608]\n",
      "\tF1 score  | [0.6821042  0.53829322 0.91098421]\n"
     ]
    }
   ],
   "source": [
    "df_kappa, df_cfmx = evaluate_reliability([\"WoZ_Interview\"], ignore_tag=\"<DISFLUENCY>-<FILLER>\", rating_filter=[0, 1])\n",
    "df_kappa_pl_list.append(df_kappa)\n",
    "df_cfmx_pl_list.append(df_cfmx)"
   ]
  },
  {
   "cell_type": "markdown",
   "metadata": {},
   "source": [
    "#### 3.2.3. Intermediate"
   ]
  },
  {
   "cell_type": "code",
   "execution_count": 42,
   "metadata": {},
   "outputs": [
    {
     "name": "stdout",
     "output_type": "stream",
     "text": [
      "--- Analysis of Pause Location ---\n",
      "- Tasks ... Arg_Oly, \n",
      "- Target rating ... [3, 4, 5]\n",
      "- Sample size = 10743\n",
      "- Data size   = 66\n",
      "\n",
      "- Metrics\n",
      "\tCohen's Kappa:  0.742 (|0.729 - 0.756|)\n",
      "\tAccuracy:       0.892\n",
      "\n",
      "\tLabels    | ['<ci>' '<ce>' '<word>']\n",
      "\tPrecision | [0.73107256 0.76771654 0.95376023]\n",
      "\tRecall    | [0.85006878 0.66213922 0.92098332]\n",
      "\tF1 score  | [0.78609286 0.71103008 0.93708525]\n"
     ]
    }
   ],
   "source": [
    "df_kappa, df_cfmx = evaluate_reliability([\"Arg_Oly\"], ignore_tag=\"<DISFLUENCY>-<FILLER>\", rating_filter=[3, 4, 5])\n",
    "df_kappa_pl_list.append(df_kappa)\n",
    "df_cfmx_pl_list.append(df_cfmx)"
   ]
  },
  {
   "cell_type": "code",
   "execution_count": 43,
   "metadata": {},
   "outputs": [
    {
     "name": "stdout",
     "output_type": "stream",
     "text": [
      "--- Analysis of Pause Location ---\n",
      "- Tasks ... Cartoon, \n",
      "- Target rating ... [3, 4, 5]\n",
      "- Sample size = 14805\n",
      "- Data size   = 66\n",
      "\n",
      "- Metrics\n",
      "\tCohen's Kappa:  0.742 (|0.731 - 0.754|)\n",
      "\tAccuracy:       0.886\n",
      "\n",
      "\tLabels    | ['<ci>' '<ce>' '<word>']\n",
      "\tPrecision | [0.69440655 0.78886555 0.9633883 ]\n",
      "\tRecall    | [0.85661393 0.72142171 0.90938571]\n",
      "\tF1 score  | [0.76702833 0.75363773 0.93560841]\n"
     ]
    }
   ],
   "source": [
    "df_kappa, df_cfmx = evaluate_reliability([\"Cartoon\"], ignore_tag=\"<DISFLUENCY>-<FILLER>\", rating_filter=[3, 4, 5])\n",
    "df_kappa_pl_list.append(df_kappa)\n",
    "df_cfmx_pl_list.append(df_cfmx)"
   ]
  },
  {
   "cell_type": "code",
   "execution_count": 44,
   "metadata": {},
   "outputs": [
    {
     "name": "stdout",
     "output_type": "stream",
     "text": [
      "--- Analysis of Pause Location ---\n",
      "- Tasks ... RtSwithoutRAA, \n",
      "- Target rating ... [3, 4, 5]\n",
      "- Sample size = 14543\n",
      "- Data size   = 66\n",
      "\n",
      "- Metrics\n",
      "\tCohen's Kappa:  0.735 (|0.723 - 0.746|)\n",
      "\tAccuracy:       0.883\n",
      "\n",
      "\tLabels    | ['<ci>' '<ce>' '<word>']\n",
      "\tPrecision | [0.70860215 0.76765083 0.95679012]\n",
      "\tRecall    | [0.86682012 0.65070729 0.9080601 ]\n",
      "\tF1 score  | [0.77976631 0.70435807 0.93178843]\n"
     ]
    }
   ],
   "source": [
    "df_kappa, df_cfmx = evaluate_reliability([\"RtSwithoutRAA\"], ignore_tag=\"<DISFLUENCY>-<FILLER>\", rating_filter=[3, 4, 5])\n",
    "df_kappa_pl_list.append(df_kappa)\n",
    "df_cfmx_pl_list.append(df_cfmx)"
   ]
  },
  {
   "cell_type": "code",
   "execution_count": 45,
   "metadata": {},
   "outputs": [
    {
     "name": "stdout",
     "output_type": "stream",
     "text": [
      "--- Analysis of Pause Location ---\n",
      "- Tasks ... RtSwithRAA, \n",
      "- Target rating ... [3, 4, 5]\n",
      "- Sample size = 15218\n",
      "- Data size   = 66\n",
      "\n",
      "- Metrics\n",
      "\tCohen's Kappa:  0.726 (|0.715 - 0.737|)\n",
      "\tAccuracy:       0.879\n",
      "\n",
      "\tLabels    | ['<ci>' '<ce>' '<word>']\n",
      "\tPrecision | [0.71097372 0.73391089 0.95231763]\n",
      "\tRecall    | [0.84896955 0.62951168 0.90938776]\n",
      "\tF1 score  | [0.77386794 0.67771429 0.93035772]\n"
     ]
    }
   ],
   "source": [
    "df_kappa, df_cfmx = evaluate_reliability([\"RtSwithRAA\"], ignore_tag=\"<DISFLUENCY>-<FILLER>\", rating_filter=[3, 4, 5])\n",
    "df_kappa_pl_list.append(df_kappa)\n",
    "df_cfmx_pl_list.append(df_cfmx)"
   ]
  },
  {
   "cell_type": "code",
   "execution_count": 46,
   "metadata": {},
   "outputs": [
    {
     "name": "stdout",
     "output_type": "stream",
     "text": [
      "--- Analysis of Pause Location ---\n",
      "- Tasks ... WoZ_Interview, \n",
      "- Target rating ... [2, 3]\n",
      "- Sample size = 33028\n",
      "- Data size   = 979\n",
      "\n",
      "- Metrics\n",
      "\tCohen's Kappa:  0.635 (|0.626 - 0.644|)\n",
      "\tAccuracy:       0.862\n",
      "\n",
      "\tLabels    | ['<ci>' '<ce>' '<word>']\n",
      "\tPrecision | [0.57604671 0.58246001 0.96540322]\n",
      "\tRecall    | [0.82366117 0.6289458  0.88342537]\n",
      "\tF1 score  | [0.6779519  0.604811   0.92259683]\n"
     ]
    }
   ],
   "source": [
    "df_kappa, df_cfmx = evaluate_reliability([\"WoZ_Interview\"], ignore_tag=\"<DISFLUENCY>-<FILLER>\", rating_filter=[2, 3])\n",
    "df_kappa_pl_list.append(df_kappa)\n",
    "df_cfmx_pl_list.append(df_cfmx)"
   ]
  },
  {
   "cell_type": "markdown",
   "metadata": {},
   "source": [
    "#### 3.2.4. Advanced"
   ]
  },
  {
   "cell_type": "code",
   "execution_count": 47,
   "metadata": {},
   "outputs": [
    {
     "name": "stdout",
     "output_type": "stream",
     "text": [
      "--- Analysis of Pause Location ---\n",
      "- Tasks ... Arg_Oly, \n",
      "- Target rating ... [6, 7, 8]\n",
      "- Sample size = 6068\n",
      "- Data size   = 29\n",
      "\n",
      "- Metrics\n",
      "\tCohen's Kappa:  0.747 (|0.728 - 0.767|)\n",
      "\tAccuracy:       0.912\n",
      "\n",
      "\tLabels    | ['<ci>' '<ce>' '<word>']\n",
      "\tPrecision | [0.67518248 0.78928571 0.97485081]\n",
      "\tRecall    | [0.85057471 0.73913043 0.93365993]\n",
      "\tF1 score  | [0.75279756 0.76338515 0.95381086]\n"
     ]
    }
   ],
   "source": [
    "df_kappa, df_cfmx = evaluate_reliability([\"Arg_Oly\"], ignore_tag=\"<DISFLUENCY>-<FILLER>\", rating_filter=[6, 7, 8])\n",
    "df_kappa_pl_list.append(df_kappa)\n",
    "df_cfmx_pl_list.append(df_cfmx)"
   ]
  },
  {
   "cell_type": "code",
   "execution_count": 48,
   "metadata": {},
   "outputs": [
    {
     "name": "stdout",
     "output_type": "stream",
     "text": [
      "--- Analysis of Pause Location ---\n",
      "- Tasks ... Cartoon, \n",
      "- Target rating ... [6, 7, 8]\n",
      "- Sample size = 7495\n",
      "- Data size   = 29\n",
      "\n",
      "- Metrics\n",
      "\tCohen's Kappa:  0.756 (|0.739 - 0.772|)\n",
      "\tAccuracy:       0.911\n",
      "\n",
      "\tLabels    | ['<ci>' '<ce>' '<word>']\n",
      "\tPrecision | [0.64767616 0.79791667 0.98204541]\n",
      "\tRecall    | [0.87715736 0.756917   0.92921386]\n",
      "\tF1 score  | [0.74514877 0.77687627 0.95489944]\n"
     ]
    }
   ],
   "source": [
    "df_kappa, df_cfmx = evaluate_reliability([\"Cartoon\"], ignore_tag=\"<DISFLUENCY>-<FILLER>\", rating_filter=[6, 7, 8])\n",
    "df_kappa_pl_list.append(df_kappa)\n",
    "df_cfmx_pl_list.append(df_cfmx)"
   ]
  },
  {
   "cell_type": "code",
   "execution_count": 49,
   "metadata": {},
   "outputs": [
    {
     "name": "stdout",
     "output_type": "stream",
     "text": [
      "--- Analysis of Pause Location ---\n",
      "- Tasks ... RtSwithoutRAA, \n",
      "- Target rating ... [6, 7, 8]\n",
      "- Sample size = 8298\n",
      "- Data size   = 29\n",
      "\n",
      "- Metrics\n",
      "\tCohen's Kappa:  0.722 (|0.705 - 0.738|)\n",
      "\tAccuracy:       0.893\n",
      "\n",
      "\tLabels    | ['<ci>' '<ce>' '<word>']\n",
      "\tPrecision | [0.66626433 0.76572668 0.96326861]\n",
      "\tRecall    | [0.82265276 0.71747967 0.92094678]\n",
      "\tF1 score  | [0.73624542 0.74081847 0.94163239]\n"
     ]
    }
   ],
   "source": [
    "df_kappa, df_cfmx = evaluate_reliability([\"RtSwithoutRAA\"], ignore_tag=\"<DISFLUENCY>-<FILLER>\", rating_filter=[6, 7, 8])\n",
    "df_kappa_pl_list.append(df_kappa)\n",
    "df_cfmx_pl_list.append(df_cfmx)"
   ]
  },
  {
   "cell_type": "code",
   "execution_count": 50,
   "metadata": {},
   "outputs": [
    {
     "name": "stdout",
     "output_type": "stream",
     "text": [
      "--- Analysis of Pause Location ---\n",
      "- Tasks ... RtSwithRAA, \n",
      "- Target rating ... [6, 7, 8]\n",
      "- Sample size = 8264\n",
      "- Data size   = 29\n",
      "\n",
      "- Metrics\n",
      "\tCohen's Kappa:  0.726 (|0.709 - 0.742|)\n",
      "\tAccuracy:       0.892\n",
      "\n",
      "\tLabels    | ['<ci>' '<ce>' '<word>']\n",
      "\tPrecision | [0.67142042 0.76359338 0.96501314]\n",
      "\tRecall    | [0.84433286 0.66735537 0.91998121]\n",
      "\tF1 score  | [0.74801398 0.71223815 0.94195928]\n"
     ]
    }
   ],
   "source": [
    "df_kappa, df_cfmx = evaluate_reliability([\"RtSwithRAA\"], ignore_tag=\"<DISFLUENCY>-<FILLER>\", rating_filter=[6, 7, 8])\n",
    "df_kappa_pl_list.append(df_kappa)\n",
    "df_cfmx_pl_list.append(df_cfmx)"
   ]
  },
  {
   "cell_type": "code",
   "execution_count": 51,
   "metadata": {},
   "outputs": [
    {
     "name": "stdout",
     "output_type": "stream",
     "text": [
      "--- Analysis of Pause Location ---\n",
      "- Tasks ... WoZ_Interview, \n",
      "- Target rating ... [4, 5]\n",
      "- Sample size = 8036\n",
      "- Data size   = 161\n",
      "\n",
      "- Metrics\n",
      "\tCohen's Kappa:  0.596 (|0.575 - 0.618|)\n",
      "\tAccuracy:       0.885\n",
      "\n",
      "\tLabels    | ['<ci>' '<ce>' '<word>']\n",
      "\tPrecision | [0.49715678 0.44102564 0.9858145 ]\n",
      "\tRecall    | [0.816      0.66153846 0.9000854 ]\n",
      "\tF1 score  | [0.61786976 0.52923077 0.94100141]\n"
     ]
    }
   ],
   "source": [
    "df_kappa, df_cfmx = evaluate_reliability([\"WoZ_Interview\"], ignore_tag=\"<DISFLUENCY>-<FILLER>\", rating_filter=[4, 5])\n",
    "df_kappa_pl_list.append(df_kappa)\n",
    "df_cfmx_pl_list.append(df_cfmx)"
   ]
  },
  {
   "cell_type": "code",
   "execution_count": 52,
   "metadata": {},
   "outputs": [],
   "source": [
    "df_kappa_pl = pd.concat(df_kappa_pl_list)\n",
    "df_kappa_pl.sort_index()\n",
    "df_kappa_pl.to_csv(\"/home/matsuura/Development/app/feature_extraction_api/experiment/data/kappa_pause_loc_detection.csv\")"
   ]
  },
  {
   "cell_type": "code",
   "execution_count": 53,
   "metadata": {},
   "outputs": [],
   "source": [
    "df_cfmx_pl = pd.concat(df_cfmx_pl_list)\n",
    "df_cfmx_pl.sort_index()\n",
    "df_cfmx_pl.to_csv(\"/home/matsuura/Development/app/feature_extraction_api/experiment/data/cfmx_pause_loc_detection.csv\")"
   ]
  },
  {
   "cell_type": "code",
   "execution_count": null,
   "metadata": {},
   "outputs": [],
   "source": []
  }
 ],
 "metadata": {
  "kernelspec": {
   "display_name": "teai-incremental-classifier",
   "language": "python",
   "name": "python3"
  },
  "language_info": {
   "codemirror_mode": {
    "name": "ipython",
    "version": 3
   },
   "file_extension": ".py",
   "mimetype": "text/x-python",
   "name": "python",
   "nbconvert_exporter": "python",
   "pygments_lexer": "ipython3",
   "version": "3.9.6"
  }
 },
 "nbformat": 4,
 "nbformat_minor": 2
}
